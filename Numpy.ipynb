{
 "cells": [
  {
   "cell_type": "code",
   "execution_count": 1,
   "id": "4ffe3143-2747-4614-9083-33306f01ff8b",
   "metadata": {},
   "outputs": [],
   "source": [
    "import numpy as np"
   ]
  },
  {
   "cell_type": "code",
   "execution_count": 2,
   "id": "fb63ecc8-2bef-4b9b-a563-e5f37a292173",
   "metadata": {},
   "outputs": [
    {
     "name": "stdout",
     "output_type": "stream",
     "text": [
      "[1 2 3 4 5]\n"
     ]
    },
    {
     "data": {
      "text/plain": [
       "numpy.ndarray"
      ]
     },
     "execution_count": 2,
     "metadata": {},
     "output_type": "execute_result"
    }
   ],
   "source": [
    "list1=[1,2,3,4,5]\n",
    "array1=np.array(list1)\n",
    "print(array1)\n",
    "type(array1)"
   ]
  },
  {
   "cell_type": "code",
   "execution_count": 3,
   "id": "73b0cc8a-b1f1-4cad-ba01-853f3da28080",
   "metadata": {},
   "outputs": [
    {
     "data": {
      "text/plain": [
       "(5,)"
      ]
     },
     "execution_count": 3,
     "metadata": {},
     "output_type": "execute_result"
    }
   ],
   "source": [
    "array1.shape #one dimetional array"
   ]
  },
  {
   "cell_type": "code",
   "execution_count": 4,
   "id": "92f99772-969c-4892-9b75-78146c7ac3c6",
   "metadata": {},
   "outputs": [
    {
     "data": {
      "text/plain": [
       "5"
      ]
     },
     "execution_count": 4,
     "metadata": {},
     "output_type": "execute_result"
    }
   ],
   "source": [
    "array1[4] #one dimentional print 5th element"
   ]
  },
  {
   "cell_type": "code",
   "execution_count": 5,
   "id": "9c87693a-3c2c-47b2-b78f-dc453fdf1335",
   "metadata": {},
   "outputs": [
    {
     "name": "stdout",
     "output_type": "stream",
     "text": [
      "[[ 1  2  3  4]\n",
      " [ 5  6  7  8]\n",
      " [ 9 10 11 12]]\n"
     ]
    }
   ],
   "source": [
    "list1=[1,2,3,4]\n",
    "list2=[5,6,7,8]\n",
    "list3=[9,10,11,12]\n",
    "array2=np.array([list1,list2,list3]) #create 2 dimensionl array\n",
    "print(array2)"
   ]
  },
  {
   "cell_type": "code",
   "execution_count": 6,
   "id": "6337ced7-c6c2-4e7b-8c81-148121b94bbb",
   "metadata": {},
   "outputs": [
    {
     "data": {
      "text/plain": [
       "(3, 4)"
      ]
     },
     "execution_count": 6,
     "metadata": {},
     "output_type": "execute_result"
    }
   ],
   "source": [
    "array2.shape  #print the shape of array, 3 row 4 column"
   ]
  },
  {
   "cell_type": "code",
   "execution_count": 7,
   "id": "f90601a3-f650-4da0-a5d4-e31a13a51e28",
   "metadata": {},
   "outputs": [
    {
     "data": {
      "text/plain": [
       "array([[ 1,  2,  3,  4,  5,  6],\n",
       "       [ 7,  8,  9, 10, 11, 12]])"
      ]
     },
     "execution_count": 7,
     "metadata": {},
     "output_type": "execute_result"
    }
   ],
   "source": [
    "array2.reshape(2,6)  #reshaping the array but elements coint should be same"
   ]
  },
  {
   "cell_type": "code",
   "execution_count": 8,
   "id": "597aceab-a47e-4b94-9a4f-8be68eedb66d",
   "metadata": {},
   "outputs": [
    {
     "data": {
      "text/plain": [
       "array([[ 1,  2,  3,  4],\n",
       "       [ 5,  6,  7,  8],\n",
       "       [ 9, 10, 11, 12]])"
      ]
     },
     "execution_count": 8,
     "metadata": {},
     "output_type": "execute_result"
    }
   ],
   "source": [
    "array2.reshape(3,4)"
   ]
  },
  {
   "cell_type": "code",
   "execution_count": 9,
   "id": "2825bae1-2105-48d9-ad92-7252202baa6c",
   "metadata": {},
   "outputs": [
    {
     "data": {
      "text/plain": [
       "array([[ 1,  2,  3,  4],\n",
       "       [ 5,  6,  7,  8],\n",
       "       [ 9, 10, 11, 12]])"
      ]
     },
     "execution_count": 9,
     "metadata": {},
     "output_type": "execute_result"
    }
   ],
   "source": [
    "#retrive data from array\n",
    "#array index start from 0\n",
    "array2[:,:]  #will retrive all the elements"
   ]
  },
  {
   "cell_type": "code",
   "execution_count": 10,
   "id": "a8729ece-f331-4802-96ab-efa01863fbb9",
   "metadata": {},
   "outputs": [
    {
     "data": {
      "text/plain": [
       "array([[1, 2, 3, 4],\n",
       "       [5, 6, 7, 8]])"
      ]
     },
     "execution_count": 10,
     "metadata": {},
     "output_type": "execute_result"
    }
   ],
   "source": [
    "array2[0:2,:]              #[row,column] [0:2,:] row: start from 0 and go before 2; : all columns"
   ]
  },
  {
   "cell_type": "code",
   "execution_count": 11,
   "id": "10d57471-e1d3-4373-ab4a-190e3916eb1e",
   "metadata": {},
   "outputs": [
    {
     "data": {
      "text/plain": [
       "array([[1, 2],\n",
       "       [5, 6]])"
      ]
     },
     "execution_count": 11,
     "metadata": {},
     "output_type": "execute_result"
    }
   ],
   "source": [
    "array2[0:2,0:2]   # row from 0 to before 2; column fro 0 to before 2, i.e. 1"
   ]
  },
  {
   "cell_type": "code",
   "execution_count": 12,
   "id": "3ff0cdf6-c765-4ec2-85dc-2945ef0f1e52",
   "metadata": {},
   "outputs": [
    {
     "data": {
      "text/plain": [
       "array([[ 7,  8],\n",
       "       [11, 12]])"
      ]
     },
     "execution_count": 12,
     "metadata": {},
     "output_type": "execute_result"
    }
   ],
   "source": [
    "#print 7,8,11,12, row 1 to 2; column 2,3\n",
    "array2[1:,2:]   #last row and column need to be mentioned blanl [1:,2:]"
   ]
  },
  {
   "cell_type": "code",
   "execution_count": 13,
   "id": "eda552ac-8f00-4ec5-a5b2-19b0bc936381",
   "metadata": {},
   "outputs": [
    {
     "data": {
      "text/plain": [
       "array([0, 2, 4, 6, 8])"
      ]
     },
     "execution_count": 13,
     "metadata": {},
     "output_type": "execute_result"
    }
   ],
   "source": [
    "array3= np.arange(0,10,2) #create a 1dimestional array, start=0, end=10, interval=2\n",
    "array3"
   ]
  },
  {
   "cell_type": "code",
   "execution_count": 17,
   "id": "840e7534-fbaa-4b97-8c80-12989a1add83",
   "metadata": {},
   "outputs": [
    {
     "data": {
      "text/plain": [
       "array([ 1.        ,  1.18367347,  1.36734694,  1.55102041,  1.73469388,\n",
       "        1.91836735,  2.10204082,  2.28571429,  2.46938776,  2.65306122,\n",
       "        2.83673469,  3.02040816,  3.20408163,  3.3877551 ,  3.57142857,\n",
       "        3.75510204,  3.93877551,  4.12244898,  4.30612245,  4.48979592,\n",
       "        4.67346939,  4.85714286,  5.04081633,  5.2244898 ,  5.40816327,\n",
       "        5.59183673,  5.7755102 ,  5.95918367,  6.14285714,  6.32653061,\n",
       "        6.51020408,  6.69387755,  6.87755102,  7.06122449,  7.24489796,\n",
       "        7.42857143,  7.6122449 ,  7.79591837,  7.97959184,  8.16326531,\n",
       "        8.34693878,  8.53061224,  8.71428571,  8.89795918,  9.08163265,\n",
       "        9.26530612,  9.44897959,  9.63265306,  9.81632653, 10.        ])"
      ]
     },
     "execution_count": 17,
     "metadata": {},
     "output_type": "execute_result"
    }
   ],
   "source": [
    "np.linspace(1,10,50)  #equally divided 1 to 10 in 50 points"
   ]
  },
  {
   "cell_type": "code",
   "execution_count": 29,
   "id": "908f5458-efcf-44a0-916a-18622d03e280",
   "metadata": {},
   "outputs": [
    {
     "name": "stdout",
     "output_type": "stream",
     "text": [
      "[ 1  2  3  4  5  6  7  8  9 10]\n",
      "[  1   2   3 100 100 100 100 100 100 100]\n",
      "[  1   2   3 100 100 100 100 100 100 100]\n"
     ]
    }
   ],
   "source": [
    "#broad casting\n",
    "arr1=np.array([1,2,3,4,5,6,7,8,9,10])\n",
    "arr2=arr1\n",
    "print(arr2)\n",
    "arr1[3:]=100  #put the value from 3 rd value to all 100 called broadcasting\n",
    "print(arr1)\n",
    "print(arr2)\n",
    "#we can see by changing the value of arr1 also changing the value of arr2\n",
    "# because array is a reference type\n",
    "#arr1 and arr2 refer the same pointer thats why change in arr1 change the arr2\n",
    "#to over come this we have .copy function"
   ]
  },
  {
   "cell_type": "code",
   "execution_count": 33,
   "id": "493ebed9-ed4f-43b2-9e5b-b02c9e24e79a",
   "metadata": {},
   "outputs": [
    {
     "name": "stdout",
     "output_type": "stream",
     "text": [
      "[  1   2   3   4 100 100 100 100 100 100]\n",
      "[ 1  2  3  4  5  6  7  8  9 10]\n"
     ]
    }
   ],
   "source": [
    "arr1=np.array([1,2,3,4,5,6,7,8,9,10])\n",
    "arr2=arr1.copy()\n",
    "arr1[4:]=100\n",
    "print(arr1)\n",
    "print(arr2)\n",
    "#now the change in arr1 will not effect the arr2"
   ]
  },
  {
   "cell_type": "code",
   "execution_count": 43,
   "id": "07b7434c-3716-406b-8a78-4844e9814c50",
   "metadata": {},
   "outputs": [
    {
     "name": "stdout",
     "output_type": "stream",
     "text": [
      "[ True  True False False False False False False False False]\n",
      "[ 2  4  6  8 10 12 14 16 18 20]\n",
      "[ 2  4  6  8 10 12 14 16 18 20]\n",
      "[ 1  2  3  4  5  6  7  8  9 10]\n"
     ]
    }
   ],
   "source": [
    "val=2\n",
    "print(arr2<=val)\n",
    "print(arr2*2) #all the element in arr2 will be multiply by 2\n",
    "arr3=arr2*2\n",
    "print(arr3)\n",
    "print(arr2)"
   ]
  },
  {
   "cell_type": "code",
   "execution_count": 48,
   "id": "315ace6a-7e34-4987-b6a1-437e3a0bd546",
   "metadata": {},
   "outputs": [
    {
     "data": {
      "text/plain": [
       "array([[ 0,  1,  2,  3,  4],\n",
       "       [ 5,  6,  7,  8,  9],\n",
       "       [10, 11, 12, 13, 14],\n",
       "       [15, 16, 17, 18, 19]])"
      ]
     },
     "execution_count": 48,
     "metadata": {},
     "output_type": "execute_result"
    }
   ],
   "source": [
    "array4=np.arange(0,20).reshape(4,5)\n",
    "array4"
   ]
  },
  {
   "cell_type": "code",
   "execution_count": 51,
   "id": "1a0c3a2d-cbd9-4564-bf48-022fad4529e0",
   "metadata": {},
   "outputs": [
    {
     "data": {
      "text/plain": [
       "array([[0.21327412, 0.96008631, 0.60608043, 0.03970571],\n",
       "       [0.77174049, 0.24468489, 0.71451207, 0.6665786 ],\n",
       "       [0.80693513, 0.35318616, 0.14340822, 0.81863352],\n",
       "       [0.86449357, 0.90601775, 0.08541564, 0.32758827],\n",
       "       [0.11763369, 0.39085668, 0.35854043, 0.63643613]])"
      ]
     },
     "execution_count": 51,
     "metadata": {},
     "output_type": "execute_result"
    }
   ],
   "source": [
    "np.random.rand(5,4)  #Create an array of the given shape and populate it with random samples from a uniform distribution over ``[0, 1)"
   ]
  },
  {
   "cell_type": "code",
   "execution_count": 54,
   "id": "199b0385-9311-4b5a-942c-199b416dbfbf",
   "metadata": {},
   "outputs": [
    {
     "data": {
      "text/plain": [
       "array([[-1.27535091, -1.01665493,  0.0522023 , -0.13995896, -0.70242757,\n",
       "        -0.06753696,  1.37439816,  0.0096636 , -0.46721846],\n",
       "       [-0.12982942, -0.5649375 ,  1.53914126,  0.69400474, -0.36913308,\n",
       "        -0.20234986, -0.77356201, -2.03728904,  0.74460976],\n",
       "       [ 0.24376099,  0.07228235, -0.34016641, -0.89484913, -1.48858414,\n",
       "        -0.73235579,  0.96792489,  0.35020192, -0.03354015],\n",
       "       [ 0.60362216, -0.83523432, -1.53576143, -0.32381964, -0.15939058,\n",
       "        -0.63290217,  0.09700399, -1.89655722,  0.62289053],\n",
       "       [-1.43246015, -0.70593393, -0.86590136, -0.75758285, -0.10373353,\n",
       "        -1.0699491 , -0.09589628,  1.47121663,  0.3050705 ],\n",
       "       [-0.17617281, -0.77428817,  0.55835177,  0.55755499, -1.35573504,\n",
       "        -1.15617773,  0.16187241, -0.64820963,  1.16961889]])"
      ]
     },
     "execution_count": 54,
     "metadata": {},
     "output_type": "execute_result"
    }
   ],
   "source": [
    "np.random.randn(6,9) #Return a sample (or samples) from the \"standard normal\" distribution."
   ]
  },
  {
   "cell_type": "code",
   "execution_count": 59,
   "id": "81fe9cea-4488-409b-9032-aaafbdbecebe",
   "metadata": {},
   "outputs": [
    {
     "data": {
      "text/plain": [
       "array([26, 39, 43, 37, 18, 11, 89, 76, 29, 85])"
      ]
     },
     "execution_count": 59,
     "metadata": {},
     "output_type": "execute_result"
    }
   ],
   "source": [
    "np.random.randint(0,100,10)   #chose between 0 to 100, with 10 numbers, 1d array"
   ]
  },
  {
   "cell_type": "code",
   "execution_count": 58,
   "id": "d59cf528-791d-41b7-be5c-38401f745f84",
   "metadata": {},
   "outputs": [
    {
     "data": {
      "text/plain": [
       "array([[13, 29],\n",
       "       [36, 20],\n",
       "       [81, 87],\n",
       "       [55, 95]])"
      ]
     },
     "execution_count": 58,
     "metadata": {},
     "output_type": "execute_result"
    }
   ],
   "source": [
    "np.random.randint(0,100,8).reshape(4,2) #reshape the value in 2d array"
   ]
  },
  {
   "cell_type": "code",
   "execution_count": 62,
   "id": "7f1234a0-c70f-4b92-945f-ac3e1bfe16e3",
   "metadata": {},
   "outputs": [
    {
     "data": {
      "text/plain": [
       "array([[0.87171559, 0.55257246, 0.45000076],\n",
       "       [0.05475231, 0.61698533, 0.51111941]])"
      ]
     },
     "execution_count": 62,
     "metadata": {},
     "output_type": "execute_result"
    }
   ],
   "source": [
    "np.random.random_sample((2,3))  #Return random floats in the half-open interval [0.0, 1.0)."
   ]
  }
 ],
 "metadata": {
  "kernelspec": {
   "display_name": "Python 3 (ipykernel)",
   "language": "python",
   "name": "python3"
  },
  "language_info": {
   "codemirror_mode": {
    "name": "ipython",
    "version": 3
   },
   "file_extension": ".py",
   "mimetype": "text/x-python",
   "name": "python",
   "nbconvert_exporter": "python",
   "pygments_lexer": "ipython3",
   "version": "3.11.7"
  }
 },
 "nbformat": 4,
 "nbformat_minor": 5
}
