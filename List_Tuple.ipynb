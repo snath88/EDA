{
 "cells": [
  {
   "cell_type": "markdown",
   "id": "fc082751-1250-4c95-ade2-ec8c26ce4712",
   "metadata": {},
   "source": [
    "# List and Tupple\n",
    "* List Define by []\n",
    "* Tuple define by ()"
   ]
  },
  {
   "cell_type": "code",
   "execution_count": 1,
   "id": "337a6d3f-066a-48a3-b311-05593566a56d",
   "metadata": {},
   "outputs": [],
   "source": [
    "list1=[\"Fruit\",\"Mango\",\"Avogado\", \"Apple\",\"Banana\"]"
   ]
  },
  {
   "cell_type": "code",
   "execution_count": 2,
   "id": "207e37e5-cbef-4d79-a6cf-636388b7a13a",
   "metadata": {},
   "outputs": [
    {
     "name": "stdout",
     "output_type": "stream",
     "text": [
      "['Mango', 'Avogado']\n"
     ]
    }
   ],
   "source": [
    "print(list1[1:3])  #strat from 1 and will print before 3, list start from 0"
   ]
  },
  {
   "cell_type": "code",
   "execution_count": 3,
   "id": "13c726b0-a593-4481-96c5-2e5cb4defe8d",
   "metadata": {},
   "outputs": [
    {
     "name": "stdout",
     "output_type": "stream",
     "text": [
      "['Mango', 'Avogado', 'Apple']\n"
     ]
    }
   ],
   "source": [
    "print(list1[-4:-1]) #from last 4th element to before last; last element start from -1"
   ]
  },
  {
   "cell_type": "code",
   "execution_count": 4,
   "id": "95f57f2c-40fe-418b-81fb-c357194a13ce",
   "metadata": {},
   "outputs": [
    {
     "name": "stdout",
     "output_type": "stream",
     "text": [
      "['Avogado', 'Apple', 'Banana']\n"
     ]
    }
   ],
   "source": [
    "print(list1[-3:])  #from last 3 element"
   ]
  },
  {
   "cell_type": "code",
   "execution_count": 5,
   "id": "1c810e5f-678e-453b-8464-51082a28c85f",
   "metadata": {},
   "outputs": [
    {
     "name": "stdout",
     "output_type": "stream",
     "text": [
      "['Fruit', 'Mango', 'Avogado', 'Apple', 'Banana', 'Guhava']\n"
     ]
    }
   ],
   "source": [
    "list1.append(\"Guhava\") #add item at last\n",
    "print(list1)"
   ]
  },
  {
   "cell_type": "code",
   "execution_count": 6,
   "id": "7e5c7dff-c734-4c9a-8cb2-8ff48d4fbb77",
   "metadata": {},
   "outputs": [
    {
     "name": "stdout",
     "output_type": "stream",
     "text": [
      "['Fruit', 'Grapes', 'Mango', 'Avogado', 'Apple', 'Banana', 'Guhava']\n"
     ]
    }
   ],
   "source": [
    "list1.insert(1,\"Grapes\") ##add at 1t position; add before 1th position\n",
    "print(list1)"
   ]
  },
  {
   "cell_type": "code",
   "execution_count": 7,
   "id": "d88e72df-3cb5-43d9-ac7d-4bdef9c7949e",
   "metadata": {},
   "outputs": [
    {
     "name": "stdout",
     "output_type": "stream",
     "text": [
      "['Fruit', 'Grapes', 'Mango', 'Avogado', 'Apple', 'Banana', 'Melon', 'Guhava']\n"
     ]
    }
   ],
   "source": [
    "list1.insert(-1,\"Melon\")  #it will add from last at 2nd last, if you want to add at last use .append() function\n",
    "print(list1)"
   ]
  },
  {
   "cell_type": "code",
   "execution_count": 8,
   "id": "dd3f69c4-173a-4797-a904-d2ae56f3bfda",
   "metadata": {},
   "outputs": [],
   "source": [
    "# list1.pop(0)  #pop 2nd position\n",
    "# print(list1)"
   ]
  },
  {
   "cell_type": "code",
   "execution_count": 9,
   "id": "e571a464-d4cb-4fdb-9e46-9c8c861d5a6d",
   "metadata": {},
   "outputs": [],
   "source": [
    "# del list1[0:2]\n",
    "# print(list1)"
   ]
  },
  {
   "cell_type": "code",
   "execution_count": 10,
   "id": "46c34e61-6686-48f7-83a3-a20063aff1d1",
   "metadata": {},
   "outputs": [
    {
     "name": "stdout",
     "output_type": "stream",
     "text": [
      "[1, 2, 3, 4, 5]\n"
     ]
    }
   ],
   "source": [
    "list2=[1,2,3,4,5]\n",
    "\n",
    "print(list2)"
   ]
  },
  {
   "cell_type": "code",
   "execution_count": 11,
   "id": "72c03d3c-083b-4db8-aedb-b084ffa912da",
   "metadata": {},
   "outputs": [
    {
     "name": "stdout",
     "output_type": "stream",
     "text": [
      "[1, 2, 3, 4, 5]\n"
     ]
    }
   ],
   "source": [
    "#for loop to add 2 list\n",
    "for i in list2:\n",
    "    list1.append(i)\n",
    "\n",
    "print(list1)\n"
   ]
  },
  {
   "cell_type": "code",
   "execution_count": 12,
   "id": "076c7552-b59b-401a-a8d7-9f8e3f6571be",
   "metadata": {},
   "outputs": [
    {
     "name": "stdout",
     "output_type": "stream",
     "text": [
      "['Fruit', 'Grapes', 'Mango', 'Avogado', 'Apple', 'Banana', 'Melon', 'Guhava', 1, 2, 3, 4, 5]\n"
     ]
    }
   ],
   "source": [
    "print(list1)"
   ]
  },
  {
   "cell_type": "code",
   "execution_count": 14,
   "id": "2b30d778-80cd-4688-82bf-1315cff446d0",
   "metadata": {},
   "outputs": [
    {
     "name": "stdout",
     "output_type": "stream",
     "text": [
      "['Fruit', 'Grapes', 'Mango', 'Avogado', 'Apple', 'Banana', 'Melon', 'Guhava', 1, 2, 3, 4, 5, 1, 2, 3, 4, 5, 1, 2, 3, 4, 5]\n"
     ]
    }
   ],
   "source": [
    "list1.extend(list2)  #add list 2 to list 1\n",
    "\n",
    "print(list1)"
   ]
  },
  {
   "cell_type": "code",
   "execution_count": 15,
   "id": "fa491e26-8cc4-4fe4-bae6-05bb85b68eb1",
   "metadata": {},
   "outputs": [
    {
     "name": "stdout",
     "output_type": "stream",
     "text": [
      "Data Exsist\n"
     ]
    }
   ],
   "source": [
    "if \"Grapes\" in list1:\n",
    "    print(\"Data Exsist\")\n",
    "else:\n",
    "    print(\"Data not preset\")"
   ]
  },
  {
   "cell_type": "code",
   "execution_count": 33,
   "id": "f080f5ee-31a1-436b-a754-8ba603a14366",
   "metadata": {},
   "outputs": [
    {
     "name": "stdout",
     "output_type": "stream",
     "text": [
      "[1, 2, 3, 4, 5, [5, 7, 8]]\n"
     ]
    }
   ],
   "source": [
    "list3=[1,2,3,4,5]\n",
    "list3.append([5,7,8]) #add another list at end\n",
    "print(list3)"
   ]
  },
  {
   "cell_type": "code",
   "execution_count": 24,
   "id": "abfcbf9d-2bf9-45e2-8063-3cfa7096f194",
   "metadata": {},
   "outputs": [
    {
     "name": "stdout",
     "output_type": "stream",
     "text": [
      "(3, 4, 5)\n",
      "(3, 4, 5, 6)\n"
     ]
    }
   ],
   "source": [
    "tuple1=(1,2,3,4,5,6)\n",
    "print(tuple1[-4:-1])  ##from last 4th element to before last; last element start from -1\n",
    "print(tuple1[-4:])  #from last 4th element to last element"
   ]
  },
  {
   "cell_type": "code",
   "execution_count": 25,
   "id": "089d30eb-03a9-442b-922e-f7e8a7fe0faf",
   "metadata": {},
   "outputs": [
    {
     "name": "stdout",
     "output_type": "stream",
     "text": [
      "1\n",
      "2\n",
      "3\n",
      "4\n",
      "5\n",
      "6\n"
     ]
    }
   ],
   "source": [
    "for i in tuple1:\n",
    "    print(i)"
   ]
  },
  {
   "cell_type": "code",
   "execution_count": 2,
   "id": "f74b4aaa-0d52-4f15-88f0-c296de71395f",
   "metadata": {},
   "outputs": [
    {
     "data": {
      "text/plain": [
       "5"
      ]
     },
     "execution_count": 2,
     "metadata": {},
     "output_type": "execute_result"
    }
   ],
   "source": [
    "tuple2=(1,2,3,4,5,6)\n",
    "tuple2.index(6)  #print the index\n",
    "\n",
    "if tuple1==tuple2:\n",
    "    print(\"Same data in 2 tuple\")"
   ]
  },
  {
   "cell_type": "code",
   "execution_count": 27,
   "id": "609638ff-0a2e-4bd1-9c89-2e31748e37bb",
   "metadata": {},
   "outputs": [
    {
     "name": "stdout",
     "output_type": "stream",
     "text": [
      "Data exsist\n"
     ]
    }
   ],
   "source": [
    "if 2 in tuple2:\n",
    "    print(\"Data exsist\")"
   ]
  },
  {
   "cell_type": "code",
   "execution_count": 31,
   "id": "ff4e5d30-6e49-44f1-85e4-413d2de03cb1",
   "metadata": {},
   "outputs": [
    {
     "name": "stdout",
     "output_type": "stream",
     "text": [
      "[1, 2, 3, 4, 5, 6]\n",
      "[1, 2, 'A', 3, 4, 5, 6]\n",
      "[1, 2, 'A', 3, 'B', 4, 5, 6]\n"
     ]
    }
   ],
   "source": [
    "#tuple cannot change, need to change to list and again convert to tuple\n",
    "list1=list(tuple1)\n",
    "print(list1)\n",
    "list1.insert(-4,\"A\")   #inseet before -4 position\n",
    "print(list1)\n",
    "list1.insert(4,\"B\")    #inseet before 4 position\n",
    "print(list1)"
   ]
  },
  {
   "cell_type": "code",
   "execution_count": 32,
   "id": "fa33ca86-de25-4b27-9b4d-140359367295",
   "metadata": {},
   "outputs": [
    {
     "name": "stdout",
     "output_type": "stream",
     "text": [
      "(1, 2, 'A', 3, 'B', 4, 5, 6)\n"
     ]
    }
   ],
   "source": [
    "tuple1=tuple(list1)\n",
    "print(tuple1)"
   ]
  }
 ],
 "metadata": {
  "kernelspec": {
   "display_name": "Python 3 (ipykernel)",
   "language": "python",
   "name": "python3"
  },
  "language_info": {
   "codemirror_mode": {
    "name": "ipython",
    "version": 3
   },
   "file_extension": ".py",
   "mimetype": "text/x-python",
   "name": "python",
   "nbconvert_exporter": "python",
   "pygments_lexer": "ipython3",
   "version": "3.11.7"
  }
 },
 "nbformat": 4,
 "nbformat_minor": 5
}
