{
 "cells": [
  {
   "cell_type": "code",
   "execution_count": 1,
   "id": "0bf2e757-7a6a-4002-ad28-0d30e07f5528",
   "metadata": {},
   "outputs": [],
   "source": [
    "#Function Arguments, Positinal, Keyword"
   ]
  },
  {
   "cell_type": "code",
   "execution_count": 4,
   "id": "acf88aa6-e2b9-4d61-911f-384c0108307c",
   "metadata": {},
   "outputs": [
    {
     "name": "stdout",
     "output_type": "stream",
     "text": [
      "name is nath, age is 29\n"
     ]
    }
   ],
   "source": [
    "def Hello(name,age=29):\n",
    "    print('name is {}, age is {}'.format(name,age))  #{} is placeholder\n",
    "\n",
    "Hello('nath')"
   ]
  },
  {
   "cell_type": "code",
   "execution_count": 7,
   "id": "f7864a58-87e9-4f38-bc56-8b3d975b4082",
   "metadata": {},
   "outputs": [
    {
     "name": "stdout",
     "output_type": "stream",
     "text": [
      "('Sayantan', 'nath')\n",
      "{'age': 45, 'height': 67}\n"
     ]
    }
   ],
   "source": [
    "def Hello(*args, **kwargs):\n",
    "    print(args)\n",
    "    print(kwargs)\n",
    "\n",
    "Hello('Sayantan','nath',age=45,height=67)  # sayantan, nath is positional arg, age=45 and height=67 is keyword args"
   ]
  },
  {
   "cell_type": "code",
   "execution_count": 10,
   "id": "089df79a-8705-4b53-ba6f-9912c70d4341",
   "metadata": {},
   "outputs": [
    {
     "name": "stdout",
     "output_type": "stream",
     "text": [
      "(['Sayantan', 'nath'], {'age': 45, 'height': 67})\n",
      "{}\n",
      "('Sayantan', 'nath')\n",
      "{'age': 45, 'height': 67}\n"
     ]
    }
   ],
   "source": [
    "name=['Sayantan','nath'] #list of positional args\n",
    "age={'age':45,'height':67} #key value pair of keyword args\n",
    "\n",
    "Hello(name,age)  #this will consider the name and age as positional argumnets, to fix this below format *name,**args\n",
    "Hello(*name,**age)"
   ]
  },
  {
   "cell_type": "code",
   "execution_count": 13,
   "id": "a6107953-d97f-41ae-9a78-247ebf203030",
   "metadata": {},
   "outputs": [
    {
     "data": {
      "text/plain": [
       "(30, 25)"
      ]
     },
     "execution_count": 13,
     "metadata": {},
     "output_type": "execute_result"
    }
   ],
   "source": [
    "# Function to get odd and even number sum from a list\n",
    "\n",
    "lst=[1,2,3,4,5,6,7,8,9,10]\n",
    "\n",
    "def sum(lst):\n",
    "    even_sum=0\n",
    "    odd_sum=0\n",
    "    for i in lst:\n",
    "        if i%2==0:\n",
    "            even_sum=even_sum+i\n",
    "        else:\n",
    "            odd_sum=odd_sum+i\n",
    "    return(even_sum,odd_sum)\n",
    "\n",
    "sum(lst)"
   ]
  },
  {
   "cell_type": "code",
   "execution_count": 16,
   "id": "617bc57f-9f9a-4ae2-8fad-1bc4f461963f",
   "metadata": {},
   "outputs": [
    {
     "data": {
      "text/plain": [
       "tuple"
      ]
     },
     "execution_count": 16,
     "metadata": {},
     "output_type": "execute_result"
    }
   ],
   "source": [
    "type(sum(lst))"
   ]
  },
  {
   "cell_type": "markdown",
   "id": "2bd78ac9-261c-4d12-849e-e1d7aec54aed",
   "metadata": {},
   "source": [
    "# Lambda function\n",
    "- Function with no name\n",
    "- Annonymous function\n",
    "- Single Expression only unnder one function can converted to lambda function"
   ]
  },
  {
   "cell_type": "code",
   "execution_count": 17,
   "id": "535ccf21-5296-4569-8b22-7818dcac8414",
   "metadata": {},
   "outputs": [
    {
     "data": {
      "text/plain": [
       "11"
      ]
     },
     "execution_count": 17,
     "metadata": {},
     "output_type": "execute_result"
    }
   ],
   "source": [
    "def addition(a,b):\n",
    "    return a+b\n",
    "\n",
    "addition(5,6)"
   ]
  },
  {
   "cell_type": "code",
   "execution_count": 18,
   "id": "2c7eb390-5e17-4ee8-98db-b485d02ccb1d",
   "metadata": {},
   "outputs": [],
   "source": [
    "#using lambda\n",
    "\n",
    "var=lambda a,b: a+b    #varibale to pass: operation; store in a variable; possible when single expression is returning"
   ]
  },
  {
   "cell_type": "code",
   "execution_count": 20,
   "id": "91426988-171b-42cd-bf2a-ec1d597d6820",
   "metadata": {},
   "outputs": [
    {
     "data": {
      "text/plain": [
       "15"
      ]
     },
     "execution_count": 20,
     "metadata": {},
     "output_type": "execute_result"
    }
   ],
   "source": [
    "var(9,6) #call the variable by passing arguments"
   ]
  },
  {
   "cell_type": "code",
   "execution_count": 21,
   "id": "9266bab3-b3a7-44dc-9374-0b91c0594e77",
   "metadata": {},
   "outputs": [],
   "source": [
    "#checking the number is odd or even\n",
    "even1=lambda a:a%2==0"
   ]
  },
  {
   "cell_type": "code",
   "execution_count": 23,
   "id": "9cfe2588-e1f8-43f6-8cc8-a9885b37d1d2",
   "metadata": {},
   "outputs": [
    {
     "data": {
      "text/plain": [
       "False"
      ]
     },
     "execution_count": 23,
     "metadata": {},
     "output_type": "execute_result"
    }
   ],
   "source": [
    "even1(9)"
   ]
  },
  {
   "cell_type": "code",
   "execution_count": 24,
   "id": "cb4ae271-cb1b-4b9a-b6a9-a98b73e1a39f",
   "metadata": {},
   "outputs": [
    {
     "data": {
      "text/plain": [
       "17"
      ]
     },
     "execution_count": 24,
     "metadata": {},
     "output_type": "execute_result"
    }
   ],
   "source": [
    "#addition of 3 number\n",
    "sum1=lambda a,b,c: a+b+c\n",
    "\n",
    "sum1(5,6,6)"
   ]
  },
  {
   "cell_type": "markdown",
   "id": "e1ba3a1f-67f5-4a5a-ba3c-9f9f4a400c06",
   "metadata": {},
   "source": [
    "# Map function inpython"
   ]
  },
  {
   "cell_type": "code",
   "execution_count": 25,
   "id": "695556e0-be8e-414c-ac2f-a457d18e5b78",
   "metadata": {},
   "outputs": [],
   "source": [
    "def even_odd(num):\n",
    "    if num%2==0:\n",
    "        return 'The number {} is even'.format(num)\n",
    "    else:\n",
    "        return 'The number {} is odd'.format(num)\n",
    "\n",
    "lst=[1,2,3,4,5,6,7,56,79,95,45] # need to check from the list"
   ]
  },
  {
   "cell_type": "code",
   "execution_count": 28,
   "id": "c5e8f596-2135-444e-9f3c-c988cf7814ae",
   "metadata": {},
   "outputs": [
    {
     "data": {
      "text/plain": [
       "['The number 1 is odd',\n",
       " 'The number 2 is even',\n",
       " 'The number 3 is odd',\n",
       " 'The number 4 is even',\n",
       " 'The number 5 is odd',\n",
       " 'The number 6 is even',\n",
       " 'The number 7 is odd',\n",
       " 'The number 56 is even',\n",
       " 'The number 79 is odd',\n",
       " 'The number 95 is odd',\n",
       " 'The number 45 is odd']"
      ]
     },
     "execution_count": 28,
     "metadata": {},
     "output_type": "execute_result"
    }
   ],
   "source": [
    "#either we can iterrate by list or can use the map function\n",
    "\n",
    "map(even_odd,lst)   #map(func, *iterables), it will return a map object and memory not initiated , need to transfer to list\n",
    "\n",
    "list(map(even_odd,lst))"
   ]
  },
  {
   "cell_type": "markdown",
   "id": "0d31a181-aa33-49d2-b92a-8033e0491844",
   "metadata": {},
   "source": [
    "# Filter function will return the values from function which are true in condition"
   ]
  },
  {
   "cell_type": "code",
   "execution_count": 33,
   "id": "804386eb-70b1-4d02-9445-145ce3aec2b1",
   "metadata": {},
   "outputs": [],
   "source": [
    "def even(num):\n",
    "    if num%2==0:\n",
    "        return True"
   ]
  },
  {
   "cell_type": "code",
   "execution_count": 35,
   "id": "8511fd4f-95f6-4150-a989-2b06874478ae",
   "metadata": {},
   "outputs": [
    {
     "data": {
      "text/plain": [
       "[2, 4, 6, 56]"
      ]
     },
     "execution_count": 35,
     "metadata": {},
     "output_type": "execute_result"
    }
   ],
   "source": [
    "filter(even,lst)  #it will return a filter object and memory not initiated , need to transfer to list\n",
    "list(filter(even,lst))"
   ]
  },
  {
   "cell_type": "code",
   "execution_count": 37,
   "id": "4c6162a4-7611-4a27-bad2-b03fbb4b4d75",
   "metadata": {},
   "outputs": [
    {
     "data": {
      "text/plain": [
       "[2, 4, 6, 56]"
      ]
     },
     "execution_count": 37,
     "metadata": {},
     "output_type": "execute_result"
    }
   ],
   "source": [
    "# using lambda\n",
    "\n",
    "list(filter(lambda x:x%2==0,lst))"
   ]
  },
  {
   "cell_type": "code",
   "execution_count": 39,
   "id": "ade00311-ce67-40a8-929b-d47ba97db2a8",
   "metadata": {},
   "outputs": [
    {
     "data": {
      "text/plain": [
       "[False, True, False, True, False, True, False, True, False, False, False]"
      ]
     },
     "execution_count": 39,
     "metadata": {},
     "output_type": "execute_result"
    }
   ],
   "source": [
    "list(map(lambda x: x%2==0,lst))"
   ]
  },
  {
   "cell_type": "markdown",
   "id": "ad6049ef-8157-4de8-81e1-7c058bc419bb",
   "metadata": {},
   "source": [
    "# List Comprehensive\n",
    "it consist of brackets containing an expression followed by for clause, then zero or more for or if clause"
   ]
  },
  {
   "cell_type": "code",
   "execution_count": 1,
   "id": "a4fd9fab-9ca1-43de-8758-2f26c10a5c40",
   "metadata": {},
   "outputs": [],
   "source": [
    "#function to return aquare of list\n",
    "lst1= list()  #or []\n",
    "def lst_square(lst):\n",
    "    for i in lst:\n",
    "        lst1.append(i*i)\n",
    "    return lst1"
   ]
  },
  {
   "cell_type": "code",
   "execution_count": 7,
   "id": "6b70496c-2409-4f82-9186-3ca547261eee",
   "metadata": {},
   "outputs": [
    {
     "data": {
      "text/plain": [
       "[1, 4, 9, 16, 25, 1, 4, 9, 16, 25, 36, 49, 64, 81, 100]"
      ]
     },
     "execution_count": 7,
     "metadata": {},
     "output_type": "execute_result"
    }
   ],
   "source": [
    "lst2=[1,2,3,4,5,6,7,8,9,10]\n",
    "lst_square(lst2)"
   ]
  },
  {
   "cell_type": "code",
   "execution_count": 8,
   "id": "de56444a-d172-43e2-a625-7accb4dc9e86",
   "metadata": {},
   "outputs": [
    {
     "data": {
      "text/plain": [
       "[1, 4, 9, 16, 25, 36, 49, 64, 81, 100]"
      ]
     },
     "execution_count": 8,
     "metadata": {},
     "output_type": "execute_result"
    }
   ],
   "source": [
    "#by List comprehensive function\n",
    "lst3=[i*i for i in lst2]\n",
    "lst3"
   ]
  },
  {
   "cell_type": "code",
   "execution_count": 10,
   "id": "78d012c1-876a-4046-9f2d-0fe3fd575078",
   "metadata": {},
   "outputs": [
    {
     "data": {
      "text/plain": [
       "[4, 16, 36, 64, 100]"
      ]
     },
     "execution_count": 10,
     "metadata": {},
     "output_type": "execute_result"
    }
   ],
   "source": [
    "#by List comprehensive function, square if the number is even\n",
    "\n",
    "lst4= [i*i for i in lst2 if i%2==0] #[expression, for clause, if or for clause]\n",
    "lst4"
   ]
  },
  {
   "cell_type": "markdown",
   "id": "cde44f91-267f-4e05-a5e3-8ca9b0387a33",
   "metadata": {},
   "source": [
    "# Iterator vs Iterable\n",
    "- difference: when creating a list it will initiate a memory location and that is Iterable, but if list converted to Iterator the memory will not initially initiated, memory will initiate only when we calling the next() function, then one by one the element will be sliced unless we execute everything"
   ]
  },
  {
   "cell_type": "code",
   "execution_count": 8,
   "id": "9e655e11-f60c-4e24-880b-8c275b36d1ec",
   "metadata": {},
   "outputs": [],
   "source": [
    "lst=[1,2,3,4,5,6,7]\n",
    "lst1=iter(lst)"
   ]
  },
  {
   "cell_type": "code",
   "execution_count": 10,
   "id": "7889527e-2e24-484f-a401-53bdb4563a98",
   "metadata": {},
   "outputs": [
    {
     "data": {
      "text/plain": [
       "1"
      ]
     },
     "execution_count": 10,
     "metadata": {},
     "output_type": "execute_result"
    }
   ],
   "source": [
    "next(lst1)   #fetch the next value untill out of valueb"
   ]
  },
  {
   "cell_type": "markdown",
   "id": "9ed4d570-98a7-47f5-9dc3-adc6fac54d54",
   "metadata": {},
   "source": [
    "# Pyforest\n",
    "- Lazy-import of all popular Python Data Science libraries. Stop writing the same imports over and over again\n",
    "- Import all importatnt data science libraries"
   ]
  },
  {
   "cell_type": "code",
   "execution_count": 8,
   "id": "8762ebe4-db84-4a7b-a96b-2a5c69fb0194",
   "metadata": {},
   "outputs": [],
   "source": [
    "# Class\n",
    "\n",
    "class cEmp():\n",
    "    def __init__(self,name,empid,salary):\n",
    "        self.name=name\n",
    "        self.empid=empid\n",
    "        self.salary=salary\n",
    "    def display(self):\n",
    "        print('name:{name},Empid:{empid},salary:{salary}'.format(name=self.name,empid=self.empid,salary=self.salary))\n",
    "\n"
   ]
  },
  {
   "cell_type": "code",
   "execution_count": 9,
   "id": "de2cc28f-115c-4860-b0fb-4e0104f27423",
   "metadata": {},
   "outputs": [
    {
     "name": "stdout",
     "output_type": "stream",
     "text": [
      "name:John,Empid:3456,salary:15000\n"
     ]
    }
   ],
   "source": [
    "emp1=cEmp('John','3456',15000)\n",
    "emp1.display()"
   ]
  },
  {
   "cell_type": "markdown",
   "id": "b28168b3-cb19-495e-a107-8833d6acebda",
   "metadata": {},
   "source": [
    "# Exception handling"
   ]
  },
  {
   "cell_type": "code",
   "execution_count": 27,
   "id": "d9db5358-12b8-4529-bb85-51b45a73d068",
   "metadata": {},
   "outputs": [
    {
     "name": "stdin",
     "output_type": "stream",
     "text": [
      "1st number 9\n",
      "2nd number 0\n"
     ]
    },
    {
     "name": "stdout",
     "output_type": "stream",
     "text": [
      "division by zero\n",
      "enter number greater than 0\n",
      "program executed successfully\n"
     ]
    }
   ],
   "source": [
    "try:\n",
    "    a=int(input('1st number'))\n",
    "    b=int(input('2nd number'))\n",
    "    c=a/b\n",
    "    # print(c)\n",
    "except ZeroDivisionError as ex:\n",
    "    print(ex)\n",
    "    print('enter number greater than 0')\n",
    "except Exception as ex:\n",
    "    print(ex)\n",
    "else:                             #else executed if no exception\n",
    "    print(c)\n",
    "finally:                          #finally always executed\n",
    "    print('program executed successfully')"
   ]
  },
  {
   "cell_type": "code",
   "execution_count": 31,
   "id": "b31eb34d-7e33-4d2a-84ea-57523e13310a",
   "metadata": {},
   "outputs": [],
   "source": [
    "class Error(Exception):\n",
    "    pass\n",
    "\n",
    "class DOBException(Error):\n",
    "    pass\n",
    "\n",
    "class GenericEx(Error):\n",
    "    pass"
   ]
  },
  {
   "cell_type": "code",
   "execution_count": 37,
   "id": "23cb51b9-e1c8-4043-ae5f-70f8d85cb1d5",
   "metadata": {
    "raw_mimetype": "notebook",
    "slideshow": {
     "slide_type": "slide"
    },
    "tags": []
   },
   "outputs": [
    {
     "name": "stdin",
     "output_type": "stream",
     "text": [
      "Enter the Year of birth io\n"
     ]
    },
    {
     "name": "stdout",
     "output_type": "stream",
     "text": [
      "Enter proper age\n",
      "Program finished\n"
     ]
    }
   ],
   "source": [
    "try:\n",
    "    year=int(input('Enter the Year of birth'))\n",
    "    age=2024-year\n",
    "    if 19>= age or age>= 31:\n",
    "        print(age)\n",
    "        raise DOBException\n",
    "\n",
    "except DOBException:\n",
    "    print('Age cannot be greater than 30 and less than 20')\n",
    "except Exception:\n",
    "    print('Enter proper age')    #custom exception need to be raise like raise dob exception other wise it will not caught/except\n",
    "else:\n",
    "    print('age is:',age)\n",
    "finally:\n",
    "    print('Program finished')"
   ]
  },
  {
   "cell_type": "markdown",
   "id": "cebe90a5-4863-492a-a50e-e97958472892",
   "metadata": {},
   "source": [
    "# Inheritance"
   ]
  },
  {
   "cell_type": "code",
   "execution_count": 21,
   "id": "0be5221e-b784-4b45-94ab-00267011defa",
   "metadata": {},
   "outputs": [],
   "source": [
    "class Car():\n",
    "    def __init__(self, windows,doors,enginetype):\n",
    "        self.windows=windows\n",
    "        self.doors=doors\n",
    "        self.enginetype=enginetype\n",
    "    def drive(self):\n",
    "        print('The person drive the car')"
   ]
  },
  {
   "cell_type": "code",
   "execution_count": 24,
   "id": "c4e7dc70-c507-475a-91c5-13cc6bbfebfb",
   "metadata": {},
   "outputs": [
    {
     "name": "stdout",
     "output_type": "stream",
     "text": [
      "The person drive the car\n"
     ]
    },
    {
     "data": {
      "text/plain": [
       "(5, 8, None)"
      ]
     },
     "execution_count": 24,
     "metadata": {},
     "output_type": "execute_result"
    }
   ],
   "source": [
    "car1=Car(5,8,'petrol')\n",
    "car1.windows, car1.doors, car1.drive()"
   ]
  },
  {
   "cell_type": "code",
   "execution_count": 30,
   "id": "481bf6af-4964-4e0a-a6ad-bfe275fa0da7",
   "metadata": {},
   "outputs": [],
   "source": [
    "class Audi(Car):\n",
    "    def __init__(self, windows,doors,enginetype,AIEnable):\n",
    "        super().__init__(windows,doors,enginetype)           #super().__init__() here self not required# just calling the super method no: or def required\n",
    "        self.AIEnable=AIEnable\n",
    "    def selfdrive(self):\n",
    "        print('Audi can self drive')"
   ]
  },
  {
   "cell_type": "code",
   "execution_count": 34,
   "id": "5c968ad0-f759-4536-98df-6ce33c249048",
   "metadata": {},
   "outputs": [
    {
     "name": "stdout",
     "output_type": "stream",
     "text": [
      "The person drive the car\n",
      "Audi can self drive\n"
     ]
    },
    {
     "data": {
      "text/plain": [
       "(None, None)"
      ]
     },
     "execution_count": 34,
     "metadata": {},
     "output_type": "execute_result"
    }
   ],
   "source": [
    "q7=Audi(4,2,'electric',True)\n",
    "q7.drive(), q7.selfdrive()"
   ]
  },
  {
   "cell_type": "code",
   "execution_count": 36,
   "id": "e5f6c8fa-db5c-43c8-846b-40293b037762",
   "metadata": {},
   "outputs": [
    {
     "data": {
      "text/plain": [
       "(True, 2)"
      ]
     },
     "execution_count": 36,
     "metadata": {},
     "output_type": "execute_result"
    }
   ],
   "source": [
    "q7.AIEnable,q7.doors"
   ]
  },
  {
   "cell_type": "code",
   "execution_count": 37,
   "id": "50848d9e-0390-4426-be7c-537a17cb3f55",
   "metadata": {},
   "outputs": [
    {
     "data": {
      "text/plain": [
       "['AIEnable',\n",
       " '__annotations__',\n",
       " '__class__',\n",
       " '__delattr__',\n",
       " '__dict__',\n",
       " '__dir__',\n",
       " '__doc__',\n",
       " '__eq__',\n",
       " '__format__',\n",
       " '__ge__',\n",
       " '__getattribute__',\n",
       " '__getstate__',\n",
       " '__gt__',\n",
       " '__hash__',\n",
       " '__init__',\n",
       " '__init_subclass__',\n",
       " '__le__',\n",
       " '__lt__',\n",
       " '__module__',\n",
       " '__ne__',\n",
       " '__new__',\n",
       " '__reduce__',\n",
       " '__reduce_ex__',\n",
       " '__repr__',\n",
       " '__setattr__',\n",
       " '__sizeof__',\n",
       " '__str__',\n",
       " '__subclasshook__',\n",
       " '__weakref__',\n",
       " 'doors',\n",
       " 'drive',\n",
       " 'enginetype',\n",
       " 'selfdrive',\n",
       " 'windows']"
      ]
     },
     "execution_count": 37,
     "metadata": {},
     "output_type": "execute_result"
    }
   ],
   "source": [
    "dir(q7)   #list of operations can be done in q7 object"
   ]
  },
  {
   "cell_type": "code",
   "execution_count": 43,
   "id": "66794253-cc82-4cbd-ae65-3d00fb42f780",
   "metadata": {},
   "outputs": [
    {
     "name": "stdout",
     "output_type": "stream",
     "text": [
      "<__main__.Audi object at 0x00000284F4F011D0>\n"
     ]
    },
    {
     "data": {
      "text/plain": [
       "(<method-wrapper '__str__' of Audi object at 0x00000284F4F011D0>, None)"
      ]
     },
     "execution_count": 43,
     "metadata": {},
     "output_type": "execute_result"
    }
   ],
   "source": [
    "q7.__str__, print(q7)"
   ]
  },
  {
   "cell_type": "code",
   "execution_count": 47,
   "id": "6dd5d9b5-d155-4f80-a633-5ac89dcc446e",
   "metadata": {
    "scrolled": true
   },
   "outputs": [
    {
     "ename": "AssertionError",
     "evalue": "",
     "output_type": "error",
     "traceback": [
      "\u001b[1;31m---------------------------------------------------------------------------\u001b[0m",
      "\u001b[1;31mAssertionError\u001b[0m                            Traceback (most recent call last)",
      "Cell \u001b[1;32mIn[47], line 4\u001b[0m\n\u001b[0;32m      1\u001b[0m \u001b[38;5;66;03m#Python ASSERT\u001b[39;00m\n\u001b[0;32m      3\u001b[0m i\u001b[38;5;241m=\u001b[39m\u001b[38;5;241m10\u001b[39m\n\u001b[1;32m----> 4\u001b[0m \u001b[38;5;28;01massert\u001b[39;00m i\u001b[38;5;241m>\u001b[39m\u001b[38;5;241m10\u001b[39m   \u001b[38;5;66;03m#it will thow AssertionErrorand program will terminate that can be handled in try except block\u001b[39;00m\n\u001b[0;32m      5\u001b[0m \u001b[38;5;28mprint\u001b[39m(\u001b[38;5;124m'\u001b[39m\u001b[38;5;124mExecuted\u001b[39m\u001b[38;5;124m'\u001b[39m)\n",
      "\u001b[1;31mAssertionError\u001b[0m: "
     ]
    }
   ],
   "source": [
    "#Python ASSERT\n",
    "\n",
    "i=10\n",
    "assert i>10   #it will thow AssertionErrorand program will terminate that can be handled in try except block\n",
    "print('Executed')"
   ]
  },
  {
   "cell_type": "markdown",
   "id": "2ee70df2-ffd3-46c4-94eb-d7959a3f7381",
   "metadata": {},
   "source": [
    "# Python Generator vs Iterator"
   ]
  },
  {
   "cell_type": "code",
   "execution_count": 54,
   "id": "c7b7e2c7-6a46-4389-b398-893f7442d39c",
   "metadata": {},
   "outputs": [
    {
     "name": "stdout",
     "output_type": "stream",
     "text": [
      "1\n",
      "2\n",
      "3\n",
      "4\n",
      "5\n"
     ]
    }
   ],
   "source": [
    "#Iterable\n",
    "list1= [1,2,3,4,5]\n",
    "for i in list1:\n",
    "    print(i)"
   ]
  },
  {
   "cell_type": "code",
   "execution_count": 63,
   "id": "e1481c4f-3187-4e12-81af-7b13186396c5",
   "metadata": {},
   "outputs": [],
   "source": [
    "#Iterator by iter keyword\n",
    "a=iter(list1)"
   ]
  },
  {
   "cell_type": "code",
   "execution_count": 69,
   "id": "96710cfc-4a71-4a5e-a6a9-651b99134ae4",
   "metadata": {},
   "outputs": [
    {
     "name": "stdout",
     "output_type": "stream",
     "text": [
      "no more items\n"
     ]
    }
   ],
   "source": [
    "try:\n",
    "    print(next(a))\n",
    "except StopIteration:\n",
    "    print('no more items')"
   ]
  },
  {
   "cell_type": "code",
   "execution_count": 12,
   "id": "3345a4ed-a6c5-4a9d-b568-4f891da17b01",
   "metadata": {},
   "outputs": [],
   "source": [
    "#Generator by yield keyword\n",
    "def square(n):\n",
    "    for i in range(n):\n",
    "        yield i**2   #it will make entire function as iterator but yield is generator\n",
    "        #generator used to create an iterator\n",
    "        # return i**2\n"
   ]
  },
  {
   "cell_type": "code",
   "execution_count": 26,
   "id": "a4f295ad-c881-4d0f-9984-e837b1cb3587",
   "metadata": {},
   "outputs": [
    {
     "name": "stdout",
     "output_type": "stream",
     "text": [
      "0\n",
      "1\n",
      "4\n",
      "9\n",
      "16\n"
     ]
    }
   ],
   "source": [
    "for i in square(5):   #it create a generator object which can iterate\n",
    "    print(i)"
   ]
  },
  {
   "cell_type": "code",
   "execution_count": 14,
   "id": "fd22bd2e-0461-4b56-bcd6-803fe9302349",
   "metadata": {},
   "outputs": [],
   "source": [
    "g1=square(4)"
   ]
  },
  {
   "cell_type": "code",
   "execution_count": 24,
   "id": "e2ed3910-c73b-4de8-a665-78f68fbae0d1",
   "metadata": {},
   "outputs": [
    {
     "name": "stdout",
     "output_type": "stream",
     "text": [
      "no more items\n"
     ]
    }
   ],
   "source": [
    "   #it will print the next value from the iterator\n",
    "try:\n",
    "    print(next(g1))\n",
    "except StopIteration:\n",
    "    print('no more items')"
   ]
  },
  {
   "cell_type": "markdown",
   "id": "8dd3e798-9077-4de8-b922-84ff87f7eb15",
   "metadata": {},
   "source": [
    "# Python Decorators"
   ]
  },
  {
   "cell_type": "code",
   "execution_count": 103,
   "id": "158a56e1-fa50-4cbb-89e9-88f0163c1ef6",
   "metadata": {},
   "outputs": [
    {
     "name": "stdout",
     "output_type": "stream",
     "text": [
      "Function f1\n",
      "Function f2\n"
     ]
    }
   ],
   "source": [
    "def f1():\n",
    "    print('Function f1')\n",
    "def f2(func):   #passing func as arguments\n",
    "    func()   #func call always ()\n",
    "    print('Function f2')\n",
    "f2(f1)"
   ]
  },
  {
   "cell_type": "code",
   "execution_count": 4,
   "id": "ff9fa3c1-47c8-45bb-a938-0f76704c1f95",
   "metadata": {},
   "outputs": [
    {
     "name": "stdout",
     "output_type": "stream",
     "text": [
      "started\n",
      "Function f1\n",
      "end\n"
     ]
    }
   ],
   "source": [
    "#decorators by wrapper function\n",
    "\n",
    "def f1(func):\n",
    "    def wrapper():\n",
    "        print('started')\n",
    "        func()\n",
    "        print('end')\n",
    "    return wrapper\n",
    "\n",
    "def f2():\n",
    "    print('Function f1')\n",
    "\n",
    "f1(f2)()   #f1(f2) return f1.<locals>.wrapper() at some meory address, so to call the function extra ()"
   ]
  },
  {
   "cell_type": "code",
   "execution_count": 5,
   "id": "f963831c-5c89-4849-97d3-b3d85ffaced0",
   "metadata": {},
   "outputs": [
    {
     "name": "stdout",
     "output_type": "stream",
     "text": [
      "started\n",
      "Function f1\n",
      "end\n"
     ]
    }
   ],
   "source": [
    "#other way\n",
    "\n",
    "f=f1(f2)\n",
    "f()"
   ]
  },
  {
   "cell_type": "code",
   "execution_count": 9,
   "id": "c93e3797-1dc1-4cbc-84c1-c5bb9110a12a",
   "metadata": {},
   "outputs": [
    {
     "name": "stdout",
     "output_type": "stream",
     "text": [
      "started\n",
      "Function f1\n",
      "end\n"
     ]
    }
   ],
   "source": [
    "#proper docorator notation\n",
    "# f=f1(f2) this line can be replaced by @docorator function\n",
    "\n",
    "def f1(func):\n",
    "    def wrapper():\n",
    "        print('started')\n",
    "        func()\n",
    "        print('end')\n",
    "    return wrapper\n",
    "@f1   #when call function f2 always call f1 and pass the f2 as parameter\n",
    "def f2():\n",
    "    print('Function f1')\n",
    "\n",
    "f2()"
   ]
  },
  {
   "cell_type": "code",
   "execution_count": 13,
   "id": "4f75ea67-32cf-4a02-bcb2-a7adaf189bed",
   "metadata": {},
   "outputs": [
    {
     "name": "stdout",
     "output_type": "stream",
     "text": [
      "started\n",
      "hi 4\n",
      "end\n"
     ]
    }
   ],
   "source": [
    "# if function f2() have the paramer then modify the wrapeer function by *args,**kwargs\n",
    "# like f2(a) but wrapper function does not have any argument to acccept then it will through error\n",
    "\n",
    "def f1(func):\n",
    "    def wrapper(*args,**kwargs):  #arguments, keyword arguments\n",
    "        print('started')\n",
    "        func(*args,**kwargs)\n",
    "        print('end')\n",
    "    return wrapper\n",
    "@f1   #when call function f2 always call f1 and pass the f2 as parameter\n",
    "def f2(a,b):\n",
    "    print(a,b)\n",
    "f2('hi',4)"
   ]
  },
  {
   "cell_type": "code",
   "execution_count": 15,
   "id": "ce528c11-208b-4fa9-b9cb-00659f215784",
   "metadata": {},
   "outputs": [
    {
     "name": "stdout",
     "output_type": "stream",
     "text": [
      "start\n",
      "end\n"
     ]
    },
    {
     "data": {
      "text/plain": [
       "5"
      ]
     },
     "execution_count": 15,
     "metadata": {},
     "output_type": "execute_result"
    }
   ],
   "source": [
    "# returning values from decorative function\n",
    "\n",
    "def f2(func):\n",
    "    def wrapper(*args,**kwargs):\n",
    "        print('start')\n",
    "        val= func(*args,**kwargs)     #if we provide return func(*args,**kwargs) the function will return from here and end statement will not print,\n",
    "        print('end')\n",
    "        return val                      #thats why store the value in val and return the value at end of function\n",
    "    return wrapper\n",
    "\n",
    "@f2\n",
    "def f1(a,b):\n",
    "    return a+b\n",
    "\n",
    "f1(2,3)\n"
   ]
  },
  {
   "cell_type": "code",
   "execution_count": 7,
   "id": "073c119e-6ca2-4587-ae99-2dc56a7814e4",
   "metadata": {},
   "outputs": [
    {
     "name": "stdout",
     "output_type": "stream",
     "text": [
      "Program Execution time: 2.0009400844573975\n"
     ]
    }
   ],
   "source": [
    "# Timer decorator function to derive exection time of a function\n",
    "import time\n",
    "\n",
    "def timer(func):\n",
    "    def wrapper():\n",
    "        before=time.time()\n",
    "        func()\n",
    "        end =time.time()-before\n",
    "        print('Program Execution time:', end)\n",
    "    return wrapper\n",
    "\n",
    "@timer\n",
    "def f1():\n",
    "    time.sleep(2)\n",
    "   \n",
    "f1()\n",
    "\n",
    "\n",
    "\n",
    "\n",
    "\n"
   ]
  },
  {
   "cell_type": "markdown",
   "id": "038f102e-7326-4849-a21b-be0a033c8631",
   "metadata": {},
   "source": [
    "# Swallow copy vs Deep copy"
   ]
  },
  {
   "cell_type": "code",
   "execution_count": 8,
   "id": "f1963a15-148b-4e89-b67c-350eb9ed3bfa",
   "metadata": {},
   "outputs": [
    {
     "data": {
      "text/plain": [
       "([1, 2, 3, 4], [1, 2, 3, 4])"
      ]
     },
     "execution_count": 8,
     "metadata": {},
     "output_type": "execute_result"
    }
   ],
   "source": [
    "## =,copy(), deepcopy()\n",
    "lst1=[1,2,3,4]\n",
    "lst2=lst1  #lst2 and lst1 refer to same meory location\n",
    "lst2,lst1"
   ]
  },
  {
   "cell_type": "code",
   "execution_count": 9,
   "id": "85a3ce90-3f06-4cb2-a5de-4f0e8126abf3",
   "metadata": {},
   "outputs": [
    {
     "data": {
      "text/plain": [
       "([1, 100, 3, 4], [1, 100, 3, 4])"
      ]
     },
     "execution_count": 9,
     "metadata": {},
     "output_type": "execute_result"
    }
   ],
   "source": [
    "lst2[1]=100\n",
    "\n",
    "lst1,lst2  #both lst1 and lst2 chnage the value as they refer to same memory location"
   ]
  },
  {
   "cell_type": "code",
   "execution_count": 4,
   "id": "8305acf8-3b11-4265-81c6-276cd6cd1e63",
   "metadata": {},
   "outputs": [
    {
     "data": {
      "text/plain": [
       "([[1, 2, 3], [4, 5, 6]], [[1, 2, 3], [4, 5, 6]])"
      ]
     },
     "execution_count": 4,
     "metadata": {},
     "output_type": "execute_result"
    }
   ],
   "source": [
    "lst1=[[1,2,3],[4,5,6]]\n",
    "lst2= lst1.copy()\n",
    "\n",
    "lst1,lst2"
   ]
  },
  {
   "cell_type": "code",
   "execution_count": 7,
   "id": "f1c733a9-22e2-4dca-bbed-ad401bb059d0",
   "metadata": {},
   "outputs": [
    {
     "data": {
      "text/plain": [
       "[[1, 'a', 3], [4, 5, 6]]"
      ]
     },
     "execution_count": 7,
     "metadata": {},
     "output_type": "execute_result"
    }
   ],
   "source": [
    "lst1[0][1]='a'\n",
    "lst2 #each item refering to same object inside the nested list"
   ]
  },
  {
   "cell_type": "code",
   "execution_count": 13,
   "id": "763c9a58-26f8-4783-9c75-fcd275e3a4ed",
   "metadata": {},
   "outputs": [
    {
     "data": {
      "text/plain": [
       "([[1, 'a', 3], ['b', 5, 6]], [[1, 'a', 3], ['b', 5, 6]])"
      ]
     },
     "execution_count": 13,
     "metadata": {},
     "output_type": "execute_result"
    }
   ],
   "source": [
    "#deep copy\n",
    "import copy\n",
    "lst2= copy.deepcopy(lst1)\n",
    "lst1[1][0]='b'  #it will not change the lst2, deepcopy create seperate memeory location for object\n",
    "lst1,lst2"
   ]
  },
  {
   "cell_type": "markdown",
   "id": "229cf972-adbd-4d3a-a784-f58fad6dfb70",
   "metadata": {},
   "source": [
    "# Class Methods and variable and Static method"
   ]
  },
  {
   "cell_type": "code",
   "execution_count": 67,
   "id": "8540ad3a-9b7d-4fb2-8156-ea18ee0e6180",
   "metadata": {},
   "outputs": [
    {
     "data": {
      "text/plain": [
       "2024"
      ]
     },
     "execution_count": 67,
     "metadata": {},
     "output_type": "execute_result"
    }
   ],
   "source": [
    "import datetime\n",
    "\n",
    "now= datetime.datetime.now()\n",
    "now.year"
   ]
  },
  {
   "cell_type": "code",
   "execution_count": 68,
   "id": "07c06c41-722e-42f4-91f0-e8f942925157",
   "metadata": {},
   "outputs": [],
   "source": [
    "#scenario is to change the class variable baseprice by percentage\n",
    "class Car():\n",
    "    baseprice=100000\n",
    "    def __init__(self,windows,door,engine):\n",
    "        self.windows=windows\n",
    "        self.door=door\n",
    "        self.engine=engine\n",
    "    def baseprice_print(self):\n",
    "        print('baseprice is : {price}'.format(price=self.baseprice))\n",
    "    @classmethod                     #decorator in function pass the cls, parent class as parameter, \n",
    "    def newBaseprice(cls,inflation):\n",
    "        cls.baseprice=cls.baseprice+ cls.baseprice*inflation #call the class variable by cls.variable     #change the baseprice of class when the function is called\n",
    "    @staticmethod\n",
    "    def check_year():           #static method initialize as soon as class initialized, it initilized only one and multiple copy of static menthod cannot possible \n",
    "        if now.year==2024:\n",
    "            return True\n",
    "        else:\n",
    "            return False\n"
   ]
  },
  {
   "cell_type": "code",
   "execution_count": 69,
   "id": "23fe9883-7f42-4e76-a75c-ca8e7b9762df",
   "metadata": {},
   "outputs": [
    {
     "data": {
      "text/plain": [
       "(100000, 100000)"
      ]
     },
     "execution_count": 69,
     "metadata": {},
     "output_type": "execute_result"
    }
   ],
   "source": [
    "car1=Car(4,2,'diesel')\n",
    "car1.baseprice, Car.baseprice   #class variable can access class.variable name"
   ]
  },
  {
   "cell_type": "code",
   "execution_count": 70,
   "id": "aa1a01f0-5396-43f1-9cef-4eff21e9f8f6",
   "metadata": {},
   "outputs": [
    {
     "name": "stdout",
     "output_type": "stream",
     "text": [
      "baseprice is : 100000\n"
     ]
    }
   ],
   "source": [
    "car1.baseprice_print()"
   ]
  },
  {
   "cell_type": "code",
   "execution_count": 71,
   "id": "03eaa11f-87a0-42fe-ab57-16dfca03fd89",
   "metadata": {},
   "outputs": [
    {
     "data": {
      "text/plain": [
       "120000.0"
      ]
     },
     "execution_count": 71,
     "metadata": {},
     "output_type": "execute_result"
    }
   ],
   "source": [
    "#call the classmethod to change the baseprice/ class variable\n",
    "\n",
    "Car.newBaseprice(0.2)       ###best way to call the @classmethod is class.classmethodname, it can be call by object.classmethod but its not the proper way\n",
    "# car1.newBaseprice(.2)  #its not the proper way to call\n",
    "Car.baseprice"
   ]
  },
  {
   "cell_type": "code",
   "execution_count": 72,
   "id": "eb5b9f3c-5699-4699-8fe3-44af191d57ff",
   "metadata": {},
   "outputs": [
    {
     "name": "stdout",
     "output_type": "stream",
     "text": [
      "baseprice is : 120000.0\n"
     ]
    }
   ],
   "source": [
    "car1.baseprice_print()"
   ]
  },
  {
   "cell_type": "code",
   "execution_count": 75,
   "id": "5341218f-fd5b-422c-a68e-ec18e07cef3f",
   "metadata": {},
   "outputs": [
    {
     "data": {
      "text/plain": [
       "(True, True)"
      ]
     },
     "execution_count": 75,
     "metadata": {},
     "output_type": "execute_result"
    }
   ],
   "source": [
    "Car.check_year(), car1.check_year()   #static method call by calss and instance "
   ]
  },
  {
   "cell_type": "markdown",
   "id": "b5dac3b8-9a8a-4f58-8d82-6fd73374b2be",
   "metadata": {},
   "source": [
    "# Multiple inheritance in python"
   ]
  },
  {
   "cell_type": "code",
   "execution_count": 83,
   "id": "b455288d-1dd6-42ff-9dfb-9953f7424fd7",
   "metadata": {},
   "outputs": [],
   "source": [
    "class A():\n",
    "    def method1(self):\n",
    "        print('This is class A')\n",
    "   \n",
    "class B(A):\n",
    "    def method1(self):\n",
    "        print('This is class B')\n",
    "    def method2(self):\n",
    "        print('This is class B,method2')\n",
    "\n",
    "class C(A):\n",
    "    def method1(self):\n",
    "        print('This is class C')\n",
    "    \n",
    "class D(B,C):\n",
    "    def method1(self):\n",
    "        print('This is class D')\n"
   ]
  },
  {
   "cell_type": "code",
   "execution_count": 85,
   "id": "ef06fc41-8d54-46a3-81fb-6cb14c23e865",
   "metadata": {},
   "outputs": [
    {
     "name": "stdout",
     "output_type": "stream",
     "text": [
      "This is class D\n",
      "This is class B,method2\n"
     ]
    }
   ],
   "source": [
    "d= D()\n",
    "d.method1()\n",
    "d.method2()     #method 2 from class b can directly call by d object as it inherit, but how to call the method1 from B which have similar name"
   ]
  },
  {
   "cell_type": "code",
   "execution_count": 87,
   "id": "193e9e62-211c-4077-8f2a-3340c4f274b9",
   "metadata": {},
   "outputs": [
    {
     "name": "stdout",
     "output_type": "stream",
     "text": [
      "This is class B\n"
     ]
    }
   ],
   "source": [
    "B.method1(d)   #using the D class object calling the B class method1, which is inherit by D"
   ]
  },
  {
   "cell_type": "code",
   "execution_count": 88,
   "id": "6aedde86-64b8-422c-916c-03f0566cc11f",
   "metadata": {},
   "outputs": [
    {
     "name": "stdout",
     "output_type": "stream",
     "text": [
      "This is class A\n"
     ]
    }
   ],
   "source": [
    "A.method1(d)"
   ]
  },
  {
   "cell_type": "code",
   "execution_count": 96,
   "id": "52a2fda5-79a9-45ff-bc41-71b0e0dad655",
   "metadata": {},
   "outputs": [],
   "source": [
    "# want to call all the method1 function from D that define in parent class\n",
    "\n",
    "class A():\n",
    "    def method1(self):\n",
    "        print('This is class A')\n",
    "   \n",
    "class B(A):\n",
    "    def method1(self):\n",
    "        print('This is class B')\n",
    "    def method2(self):\n",
    "        print('This is class B,method2')\n",
    "\n",
    "class C(A):\n",
    "    def method1(self):\n",
    "        print('This is class C')\n",
    "    \n",
    "class D(B,C):\n",
    "    def method1(self):\n",
    "        print('This is class D')\n",
    "        A.method1(self)\n",
    "        B.method1(self)\n",
    "        C.method1(self)\n"
   ]
  },
  {
   "cell_type": "code",
   "execution_count": 97,
   "id": "197ecb6f-c85f-4f3d-b492-cda355c284d0",
   "metadata": {},
   "outputs": [
    {
     "name": "stdout",
     "output_type": "stream",
     "text": [
      "This is class D\n",
      "This is class A\n",
      "This is class B\n",
      "This is class C\n"
     ]
    }
   ],
   "source": [
    "d=D()\n",
    "d.method1()"
   ]
  },
  {
   "cell_type": "code",
   "execution_count": 1,
   "id": "6e19e66a-91ec-4dbf-9f3c-f5abaca56d82",
   "metadata": {},
   "outputs": [
    {
     "data": {
      "text/plain": [
       "10"
      ]
     },
     "execution_count": 1,
     "metadata": {},
     "output_type": "execute_result"
    }
   ],
   "source": [
    "# Eval Function\n",
    "# Execute the python expression written as string\n",
    "\n",
    "eval('5+5')"
   ]
  },
  {
   "cell_type": "code",
   "execution_count": 3,
   "id": "9352b17b-70d6-4ac4-b46d-d6c02e669299",
   "metadata": {},
   "outputs": [
    {
     "data": {
      "text/plain": [
       "9"
      ]
     },
     "execution_count": 3,
     "metadata": {},
     "output_type": "execute_result"
    }
   ],
   "source": [
    "# Local parameter\n",
    "eval('x+y',{'x':4,'y':5})"
   ]
  },
  {
   "cell_type": "code",
   "execution_count": 5,
   "id": "bba10aca-4ffe-40db-b642-c46dbd3f3645",
   "metadata": {},
   "outputs": [
    {
     "data": {
      "text/plain": [
       "30"
      ]
     },
     "execution_count": 5,
     "metadata": {},
     "output_type": "execute_result"
    }
   ],
   "source": [
    "#global parameter# we can also mix local and global\n",
    "x=5\n",
    "y=6\n",
    "eval('x*y')"
   ]
  },
  {
   "cell_type": "markdown",
   "id": "ec2549f1-7470-425f-9823-d7db437aee3f",
   "metadata": {},
   "source": [
    "# Public, Protected and private Access Modifiers"
   ]
  },
  {
   "cell_type": "code",
   "execution_count": 6,
   "id": "87f9d9c2-d722-4729-8193-24a4d86ce4a4",
   "metadata": {},
   "outputs": [],
   "source": [
    "# all the class variables are public\n",
    "\n",
    "class car():\n",
    "    def __init__(self,windows,doors,engine):\n",
    "        self.windows=windows\n",
    "        self.doors=doors\n",
    "        self.engine=engine\n"
   ]
  },
  {
   "cell_type": "code",
   "execution_count": 11,
   "id": "45416a5f-b644-436d-9c47-abfe3d1b87f0",
   "metadata": {},
   "outputs": [
    {
     "data": {
      "text/plain": [
       "5"
      ]
     },
     "execution_count": 11,
     "metadata": {},
     "output_type": "execute_result"
    }
   ],
   "source": [
    "audi=car(4,2,'diesel')\n",
    "audi.windows=5  #can change\n",
    "audi.windows"
   ]
  },
  {
   "cell_type": "code",
   "execution_count": 21,
   "id": "474d755e-8caf-4b21-a820-dcc95d1ba7ef",
   "metadata": {},
   "outputs": [],
   "source": [
    "# all the class variables are protected by single _, and can be access or modify via subclass or child class\n",
    "\n",
    "class car():\n",
    "    def __init__(self,windows,doors,engine):\n",
    "        self._windows=windows\n",
    "        self._doors=doors\n",
    "        self._engine=engine"
   ]
  },
  {
   "cell_type": "code",
   "execution_count": 22,
   "id": "9037d07d-2e2e-49ea-9a4b-ae0e8a0f4831",
   "metadata": {},
   "outputs": [],
   "source": [
    "class truck(car):\n",
    "    def __init__(self,windows,doors,engine,horsepoer):\n",
    "        super().__init__(windows,doors,engine)\n",
    "        self.horsepoer=horsepoer\n",
    "       "
   ]
  },
  {
   "cell_type": "code",
   "execution_count": 23,
   "id": "35ec68a1-a7ae-4f97-9d57-e3a01ba103f3",
   "metadata": {},
   "outputs": [],
   "source": [
    "tata=truck(4,2,'diesel',4000)\n",
    "audi=car(2,1,'petrol')"
   ]
  },
  {
   "cell_type": "code",
   "execution_count": 30,
   "id": "3caae2a0-7755-4f4a-a019-d51282fb4584",
   "metadata": {},
   "outputs": [
    {
     "data": {
      "text/plain": [
       "6"
      ]
     },
     "execution_count": 30,
     "metadata": {},
     "output_type": "execute_result"
    }
   ],
   "source": [
    "# protected variable should be access via subclass and can be access by class object._varable name\n",
    "tata._windows\n",
    "# dir(tata)\n",
    "tata._windows=6\n",
    "tata._windows"
   ]
  },
  {
   "cell_type": "code",
   "execution_count": 32,
   "id": "e063931c-973c-4195-a5d0-9164063e4790",
   "metadata": {},
   "outputs": [],
   "source": [
    "# all the class variables are Private by double __, and cannot be access or modify outside of this class\n",
    "\n",
    "class car():\n",
    "    def __init__(self,windows,doors,engine):\n",
    "        self.__windows=windows\n",
    "        self.__doors=doors\n",
    "        self.__engine=engine"
   ]
  },
  {
   "cell_type": "code",
   "execution_count": 41,
   "id": "881c70da-4368-484b-9a97-7407f01df6d8",
   "metadata": {},
   "outputs": [],
   "source": [
    "audi=car(2,3,'petrol')\n",
    "# dir(audi)"
   ]
  },
  {
   "cell_type": "code",
   "execution_count": 43,
   "id": "d1c99b97-46ea-4d99-976c-e1ce25f177c5",
   "metadata": {},
   "outputs": [
    {
     "data": {
      "text/plain": [
       "2"
      ]
     },
     "execution_count": 43,
     "metadata": {},
     "output_type": "execute_result"
    }
   ],
   "source": [
    "audi._car__windows  #private variable access by object._classname__varablename"
   ]
  },
  {
   "cell_type": "markdown",
   "id": "390fcf5f-50cc-472b-8abb-87f80da7475a",
   "metadata": {},
   "source": [
    "# List set dictionary comprehensions"
   ]
  },
  {
   "cell_type": "code",
   "execution_count": 1,
   "id": "48229912-0da3-4ef8-aafd-51e90c08b36c",
   "metadata": {},
   "outputs": [
    {
     "data": {
      "text/plain": [
       "[2, 4, 6, 8, 10]"
      ]
     },
     "execution_count": 1,
     "metadata": {},
     "output_type": "execute_result"
    }
   ],
   "source": [
    "# list1 have nunbers and want to store the even number sin list2\n",
    "# conventional methos\n",
    "lst1=[1,2,3,4,5,6,7,8,9,10]\n",
    "lst2=[]\n",
    "for i in lst1:\n",
    "    if i%2==0:\n",
    "        lst2.append(i)\n",
    "\n",
    "lst2"
   ]
  },
  {
   "cell_type": "code",
   "execution_count": 2,
   "id": "9241742e-37b1-41b7-968a-726c1cbb543f",
   "metadata": {},
   "outputs": [
    {
     "data": {
      "text/plain": [
       "[2, 4, 6, 8, 10]"
      ]
     },
     "execution_count": 2,
     "metadata": {},
     "output_type": "execute_result"
    }
   ],
   "source": [
    "# by list comprehension method\n",
    "\n",
    "lst3=[i for i in lst1 if i%2==0]  # 1st i is the value to store in list if condition satisfied, then for loop and then the condition of i\n",
    "lst3"
   ]
  },
  {
   "cell_type": "code",
   "execution_count": 3,
   "id": "7c1f98f4-952e-473e-9a3a-00ef6727ac78",
   "metadata": {},
   "outputs": [
    {
     "data": {
      "text/plain": [
       "[1, 4, 9, 16, 25, 36, 49, 64, 81, 100]"
      ]
     },
     "execution_count": 3,
     "metadata": {},
     "output_type": "execute_result"
    }
   ],
   "source": [
    "# by list comprehension method generate square of lst1 and store in lst4\n",
    "\n",
    "lst4=[i**2 for i in lst1]\n",
    "lst4"
   ]
  },
  {
   "cell_type": "code",
   "execution_count": 7,
   "id": "c25fc096-2353-498d-8e32-efea0cd57525",
   "metadata": {},
   "outputs": [
    {
     "data": {
      "text/plain": [
       "{1, 2, 3, 4}"
      ]
     },
     "execution_count": 7,
     "metadata": {},
     "output_type": "execute_result"
    }
   ],
   "source": [
    "# set comprehension, Set is unordered and doesnot allow to store duplicate values; set by {}\n",
    "\n",
    "#below we can store a list in set to remove duplicates\n",
    "\n",
    "set1=set([1,2,3,4,3,4])  #here using set function\n",
    "set1"
   ]
  },
  {
   "cell_type": "code",
   "execution_count": 8,
   "id": "a5659d55-3ddc-4bff-b972-5d45bed41fdd",
   "metadata": {},
   "outputs": [
    {
     "data": {
      "text/plain": [
       "{2, 4}"
      ]
     },
     "execution_count": 8,
     "metadata": {},
     "output_type": "execute_result"
    }
   ],
   "source": [
    "set2={i for i in set1 if i%2==0}  #same as list\n",
    "set2"
   ]
  },
  {
   "cell_type": "code",
   "execution_count": 2,
   "id": "df69d949-cc7a-4bf2-bbb6-7d2ef0cd0752",
   "metadata": {},
   "outputs": [
    {
     "name": "stdout",
     "output_type": "stream",
     "text": [
      "('Mumbai', 'India')\n",
      "('New York', 'USA')\n",
      "('paris', 'France')\n"
     ]
    }
   ],
   "source": [
    "# Zip object of 2 list\n",
    "\n",
    "cities=['Mumbai','New York','paris']\n",
    "countries=['India','USA','France']\n",
    "z= zip(cities,countries)  #Yield tuples until an input is exhausted\n",
    "# zip object can iterate and will get tuple of cities and countries\n",
    "for i in z:\n",
    "    print(i) #out put is tuple created created by original 2 list\n",
    "   #  >>> list(zip('abcdefg', range(3), range(4)))\n",
    "   # [('a', 0, 0), ('b', 1, 1), ('c', 2, 2)]\n"
   ]
  },
  {
   "cell_type": "code",
   "execution_count": 6,
   "id": "1ddb238a-820a-4d3d-ae9c-02f47ce570cb",
   "metadata": {},
   "outputs": [
    {
     "name": "stdout",
     "output_type": "stream",
     "text": [
      "Mumbai India\n",
      "New York USA\n",
      "paris France\n"
     ]
    }
   ],
   "source": [
    "z= zip(cities,countries)\n",
    "for city,country in z:\n",
    "    print(city,country)"
   ]
  },
  {
   "cell_type": "code",
   "execution_count": 7,
   "id": "1182074e-8fae-4280-9269-f7cac8b1da0d",
   "metadata": {},
   "outputs": [
    {
     "data": {
      "text/plain": [
       "{'Mumbai': 'India', 'New York': 'USA', 'paris': 'France'}"
      ]
     },
     "execution_count": 7,
     "metadata": {},
     "output_type": "execute_result"
    }
   ],
   "source": [
    "#now create a dictionary by using the above 2 list of cities and coountries\n",
    "\n",
    "dic1={city:country for city, country in zip(cities,countries)}\n",
    "dic1"
   ]
  },
  {
   "cell_type": "markdown",
   "id": "5c245d3e-0494-49fa-855f-117256e3e5a2",
   "metadata": {},
   "source": [
    "# Multi threading"
   ]
  },
  {
   "cell_type": "code",
   "execution_count": 6,
   "id": "642c8014-86b3-433d-a789-0ecba55fe0a7",
   "metadata": {},
   "outputs": [
    {
     "name": "stdin",
     "output_type": "stream",
     "text": [
      "press to stop \n"
     ]
    },
    {
     "name": "stdout",
     "output_type": "stream",
     "text": [
      "xyz:55AB:55\n",
      "\n",
      "xyz:24\n",
      "AB:24\n"
     ]
    }
   ],
   "source": [
    "import threading\n",
    "import time\n",
    "done= False\n",
    "def worker(arg):\n",
    "    counter=1\n",
    "    while True:   #for daemon thread\n",
    "    # while not done:\n",
    "        time.sleep(.5)\n",
    "        print(f'{arg}:{counter}')    #f string in python similar to .format()\n",
    "        counter+=1\n",
    "\n",
    "\n",
    "# worker()\n",
    "# if worker function run the input function will not hit and cannot stop, so we ran in mutithreading\n",
    "# worker function runs in main thread so input function will never hit utill worker function got finished\n",
    "# if we want to both running in parallel worker function need to run in multithreading so main thread also can proceed\n",
    "\n",
    "t1=threading.Thread(target=worker,daemon=True,args=('AB',))\n",
    "t2=threading.Thread(target=worker,daemon=True,args=('xyz',))\n",
    "t1.start()\n",
    "t2.start()\n",
    "# or threading.Thread(target=worker,daemon=True,args=('AB',)).start()\n",
    "#args is tuple and , is required other wise it will consider 3 parameter\n",
    "\n",
    "# daemon thread: thread is running still something is running, it will stop if nothing is running\n",
    "#if we press enter main thread will stop so the worker thread also stopped\n",
    "\n",
    "# t1.join()\n",
    "\n",
    "#t1.join() will wait for that to finish and it will wait to join the main thread untill the thread got finished\n",
    "# so if t1.join() command is there the below code section in main thread will not execute untill the child thread got finished\n",
    "input('press to stop')\n",
    "done=True\n"
   ]
  },
  {
   "cell_type": "markdown",
   "id": "4bc61f27-4ffe-4e14-a3a0-48842f6bb871",
   "metadata": {},
   "source": [
    "# Concurrent.futures"
   ]
  },
  {
   "cell_type": "code",
   "execution_count": null,
   "id": "ff71fd06-0d37-4a90-99b2-ae457174cee2",
   "metadata": {},
   "outputs": [],
   "source": [
    "from concurrent.futures import ThreadPoolExecutor\n",
    "\n",
    "import time\n",
    "\n",
    "def worker(num):\n",
    "    time.sleep(.5)\n",
    "    # print(f'claculating the squareof numbers {num}')\n",
    "    return num**2\n",
    "\n",
    "start=time.time()\n",
    "with ThreadPoolExecutor(max_workers=None) as executor:\n",
    "    for result in executor.map(worker,range(100)):\n",
    "        print(f'result is {result}')\n",
    "print('Total time is:',time.time()-start)\n",
    "#.map take iterable and .submit take single value\n",
    "#.map return iterable\n"
   ]
  },
  {
   "cell_type": "markdown",
   "id": "91a99491-c982-44d0-b516-bc2bac1b8c38",
   "metadata": {},
   "source": [
    "# Python data Classes"
   ]
  },
  {
   "cell_type": "code",
   "execution_count": 1,
   "id": "fc26273a-3a36-4ed3-9d7a-353ebd4454b5",
   "metadata": {},
   "outputs": [
    {
     "ename": "NameError",
     "evalue": "name 'python' is not defined",
     "output_type": "error",
     "traceback": [
      "\u001b[1;31m---------------------------------------------------------------------------\u001b[0m",
      "\u001b[1;31mNameError\u001b[0m                                 Traceback (most recent call last)",
      "Cell \u001b[1;32mIn[1], line 1\u001b[0m\n\u001b[1;32m----> 1\u001b[0m python \u001b[38;5;241m-\u001b[39m\u001b[38;5;241m-\u001b[39mversion\n",
      "\u001b[1;31mNameError\u001b[0m: name 'python' is not defined"
     ]
    }
   ],
   "source": [
    "@da"
   ]
  }
 ],
 "metadata": {
  "kernelspec": {
   "display_name": "Python 3 (ipykernel)",
   "language": "python",
   "name": "python3"
  },
  "language_info": {
   "codemirror_mode": {
    "name": "ipython",
    "version": 3
   },
   "file_extension": ".py",
   "mimetype": "text/x-python",
   "name": "python",
   "nbconvert_exporter": "python",
   "pygments_lexer": "ipython3",
   "version": "3.11.7"
  }
 },
 "nbformat": 4,
 "nbformat_minor": 5
}
