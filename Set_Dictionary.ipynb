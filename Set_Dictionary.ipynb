{
 "cells": [
  {
   "cell_type": "markdown",
   "id": "ba587839-1303-4b13-b755-03482baa3351",
   "metadata": {},
   "source": [
    "# Set & Dictionary \n",
    "- set is a collection which is unordered and unindex. set is define by {}\n",
    "- key and value pair store in dictionary\r",
    "- #its unordered, indexed and changeable(mutable)"
   ]
  },
  {
   "cell_type": "code",
   "execution_count": 2,
   "id": "6e7ab3f5-3263-4b55-b91a-865f94a5f04c",
   "metadata": {},
   "outputs": [
    {
     "name": "stdout",
     "output_type": "stream",
     "text": [
      "1\n",
      "2\n",
      "3\n",
      "4\n",
      "5\n",
      "6\n",
      "7\n",
      "8\n",
      "9\n",
      "{1, 2, 3, 4, 5, 6, 7, 8, 9}\n"
     ]
    }
   ],
   "source": [
    "set1={1,1,2,3,4,5,6,7,8,1,9} ##duplicate not allowed\n",
    "for i in set1:\n",
    "    print(i)\n",
    "print(set1)"
   ]
  },
  {
   "cell_type": "code",
   "execution_count": 2,
   "id": "9b155001-5f77-4991-8562-0a11634704e6",
   "metadata": {},
   "outputs": [
    {
     "name": "stdout",
     "output_type": "stream",
     "text": [
      "{'Apple', 'Banana', 'Grapes', 7, 8, 'Orange'}\n"
     ]
    }
   ],
   "source": [
    "set2={\"Apple\",\"Banana\",\"Orange\",\"Grapes\",7,8}\n",
    "print (set2)"
   ]
  },
  {
   "cell_type": "code",
   "execution_count": 3,
   "id": "b71b49cf-eeb5-4b9e-b1e2-96790eb19b51",
   "metadata": {},
   "outputs": [
    {
     "name": "stdout",
     "output_type": "stream",
     "text": [
      "{'Apple', 'Banana', 'Grapes', 7, 8, 'Pie', 'Orange'}\n"
     ]
    }
   ],
   "source": [
    "set2.add(\"Pie\")  #add to set\n",
    "print(set2)"
   ]
  },
  {
   "cell_type": "code",
   "execution_count": 4,
   "id": "d90ad510-5a11-4804-82ce-50d141293c17",
   "metadata": {},
   "outputs": [
    {
     "name": "stdout",
     "output_type": "stream",
     "text": [
      "{7, 8, 'Banana', 'Pie', 'Avogado', 'Apple', 'Potato', 'Grapes', 'Orange'}\n"
     ]
    }
   ],
   "source": [
    "set2.update([\"Avogado\",\"Potato\"])  #bulk update set\n",
    "print(set2)"
   ]
  },
  {
   "cell_type": "code",
   "execution_count": 6,
   "id": "44a93a3d-ad0a-4a6f-a429-3988f1e02f90",
   "metadata": {},
   "outputs": [
    {
     "name": "stdout",
     "output_type": "stream",
     "text": [
      "{7, 8, 'Banana', 'Pie', 'Avogado', 'Potato', 'Grapes', 'Orange'}\n"
     ]
    }
   ],
   "source": [
    "set2.discard(\"Apple\")\n",
    "print(set2)"
   ]
  },
  {
   "cell_type": "code",
   "execution_count": 8,
   "id": "e4845740-e3fc-441f-9726-bf8f28ca7cf8",
   "metadata": {},
   "outputs": [
    {
     "name": "stdout",
     "output_type": "stream",
     "text": [
      "{1, 2, 3, 4, 5, 6, 7, 8, 9, 'Potato', 'Banana', 'Grapes', 'Orange', 'Pie', 'Avogado'}\n"
     ]
    }
   ],
   "source": [
    "#add 2 set by union\n",
    "set3=set1.union(set2)\n",
    "print(set3)"
   ]
  },
  {
   "cell_type": "code",
   "execution_count": 9,
   "id": "95b1ab05-04af-4dce-b598-dbfd0fb1d3f8",
   "metadata": {},
   "outputs": [
    {
     "name": "stdout",
     "output_type": "stream",
     "text": [
      "{1, 2, 3, 4, 5, 6, 7, 8, 9}\n",
      "{1, 2, 3, 4, 5, 6, 7, 8, 9, 'Potato', 'Banana', 'Grapes', 'Orange', 'Pie', 'Avogado'}\n"
     ]
    }
   ],
   "source": [
    "#join set by update()\n",
    "print(set1)\n",
    "set1.update(set2)\n",
    "print(set1)"
   ]
  },
  {
   "cell_type": "code",
   "execution_count": 13,
   "id": "9c6d37f6-a3db-47ef-a24f-c1240b916652",
   "metadata": {},
   "outputs": [
    {
     "name": "stdout",
     "output_type": "stream",
     "text": [
      "{'Superman'}\n",
      "{'Heman', 'Batman'}\n",
      "{'Superman'}\n"
     ]
    }
   ],
   "source": [
    "set4={\"Avenger\", \"Hitman\",\"Hulk\", \"Batman\",\"Heman\"}\n",
    "set5= {\"Avenger\",\"Hitman\",\"Hulk\",\"Superman\"}\n",
    "print(set5.difference(set4))   #difference in set 5\n",
    "print(set4.difference(set5))   #difference in set4\n",
    "\n",
    "set5.difference_update(set4)   #update the different in set 5\n",
    "print(set5)"
   ]
  },
  {
   "cell_type": "code",
   "execution_count": 17,
   "id": "5368ad20-c542-4163-a875-37f6c95965e4",
   "metadata": {},
   "outputs": [
    {
     "name": "stdout",
     "output_type": "stream",
     "text": [
      "{'Hulk', 'Hitman', 'Avenger'}\n",
      "{'Hulk', 'Hitman', 'Avenger'}\n",
      "{'Hulk', 'Hitman', 'Avenger'}\n"
     ]
    }
   ],
   "source": [
    "set4={\"Avenger\", \"Hitman\",\"Hulk\", \"Batman\",\"Heman\"}\n",
    "set5= {\"Avenger\",\"Hitman\",\"Hulk\",\"Superman\"}\n",
    "print(set4.intersection(set5))   #intersection common between 2 set\n",
    "print(set5.intersection(set4))\n",
    "\n",
    "set5.intersection_update(set4)  #update common value in set5\n",
    "print(set5)"
   ]
  },
  {
   "cell_type": "code",
   "execution_count": 18,
   "id": "a9d61187-ecac-4149-930a-8fb7a39563a3",
   "metadata": {},
   "outputs": [
    {
     "name": "stdout",
     "output_type": "stream",
     "text": [
      "{101: 'A', 102: 'B', 103: 'C', 104: 'D'}\n",
      "dict_values(['A', 'B', 'C', 'D'])\n",
      "A\n"
     ]
    }
   ],
   "source": [
    "#Dictipnary\n",
    "dic1={101:\"A\",102:\"B\",103:\"C\",104:\"D\"}\n",
    "print(dic1)\n",
    "print(dic1.values())  #print the values\n",
    "print(dic1[101]) #print valuse from key"
   ]
  },
  {
   "cell_type": "code",
   "execution_count": 19,
   "id": "ec23eeeb-c607-4e1a-a64f-fc09890cdb57",
   "metadata": {},
   "outputs": [
    {
     "name": "stdout",
     "output_type": "stream",
     "text": [
      "101\n",
      "A\n",
      "A\n",
      "102\n",
      "B\n",
      "B\n",
      "103\n",
      "C\n",
      "C\n",
      "104\n",
      "D\n",
      "D\n"
     ]
    }
   ],
   "source": [
    "for i in dic1:  #traverse through key\n",
    "    print(i) #print the keys only\n",
    "    print(dic1[i]) #print the values\n",
    "    print(dic1.get(i)) #print the values"
   ]
  },
  {
   "cell_type": "code",
   "execution_count": 20,
   "id": "a007eb00-ba9c-4370-8318-4df0e968f49f",
   "metadata": {},
   "outputs": [
    {
     "name": "stdout",
     "output_type": "stream",
     "text": [
      "A\n",
      "B\n",
      "C\n",
      "D\n"
     ]
    }
   ],
   "source": [
    "for i in dic1.values():   #traverse through values\n",
    "    print(i)"
   ]
  },
  {
   "cell_type": "code",
   "execution_count": 14,
   "id": "45e69e29-d629-47b9-bcc3-0f8ba5661182",
   "metadata": {},
   "outputs": [
    {
     "name": "stdout",
     "output_type": "stream",
     "text": [
      "dict_items([(101, 'A'), (102, 'B'), (103, 'C'), (104, 'D')])\n",
      "101 A\n",
      "102 B\n",
      "103 C\n",
      "104 D\n"
     ]
    }
   ],
   "source": [
    "print(dic1.items())  #print the value and key\n",
    "\n",
    "for x,y in dic1.items():  #traverse through key value pair\n",
    "    print(x,y)"
   ]
  },
  {
   "cell_type": "code",
   "execution_count": 22,
   "id": "a490a813-fdd9-40e5-96b4-644a1b0c10a3",
   "metadata": {},
   "outputs": [
    {
     "name": "stdout",
     "output_type": "stream",
     "text": [
      "dict_values(['ASD', 'B', 'C', 'D', 'E'])\n",
      "dict_items([(101, 'ASD'), (102, 'B'), (103, 'C'), (104, 'D'), (105, 'E')])\n"
     ]
    }
   ],
   "source": [
    "dic1[105]=\"E\"   #add key and value\n",
    "dic1[101]=\"ASD\"  #by mentioning same key, will update the exsisting value\n",
    "print(dic1.values())\n",
    "print(dic1.items())"
   ]
  },
  {
   "cell_type": "code",
   "execution_count": 16,
   "id": "cd291d43-0f29-44ad-978a-411f194a9f5b",
   "metadata": {},
   "outputs": [
    {
     "name": "stdout",
     "output_type": "stream",
     "text": [
      "{101: 'A', 102: 'B', 103: 'C', 105: 'E'}\n"
     ]
    }
   ],
   "source": [
    "dic1.pop(104)\n",
    "print(dic1)"
   ]
  },
  {
   "cell_type": "markdown",
   "id": "305b7fb5-536e-4321-b9ea-10f0ce2af136",
   "metadata": {},
   "source": [
    "# Nested Dictionary"
   ]
  },
  {
   "cell_type": "code",
   "execution_count": 27,
   "id": "d5fa4cd7-d527-4f7c-bb36-7838894c4f79",
   "metadata": {},
   "outputs": [
    {
     "name": "stdout",
     "output_type": "stream",
     "text": [
      "{'car1': {'Mercedes': 1960}, 'car2': {'BMW': 1990}, 'car3': {'Audi': 2004}}\n",
      "{'Mercedes': 1960}\n",
      "1960\n"
     ]
    }
   ],
   "source": [
    "car1_model={'Mercedes':1960}\n",
    "car2_model={'BMW':1990}\n",
    "car3_model={'Audi':2004}\n",
    "\n",
    "car={'car1':car1_model,'car2':car2_model,'car3':car3_model} #nested dictionary, dictionary in naother dictionary\n",
    "print(car)\n",
    "\n",
    "print(car['car1'])   ##print the vale for the key car1\n",
    "\n",
    "print(car['car1']['Mercedes'])  #print the value for the nested dictionary"
   ]
  },
  {
   "cell_type": "code",
   "execution_count": null,
   "id": "530f824a-60fa-40d0-9b64-b24b6d0eeeb9",
   "metadata": {},
   "outputs": [],
   "source": []
  }
 ],
 "metadata": {
  "kernelspec": {
   "display_name": "Python 3 (ipykernel)",
   "language": "python",
   "name": "python3"
  },
  "language_info": {
   "codemirror_mode": {
    "name": "ipython",
    "version": 3
   },
   "file_extension": ".py",
   "mimetype": "text/x-python",
   "name": "python",
   "nbconvert_exporter": "python",
   "pygments_lexer": "ipython3",
   "version": "3.11.7"
  }
 },
 "nbformat": 4,
 "nbformat_minor": 5
}
