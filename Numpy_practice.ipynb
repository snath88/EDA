{
 "cells": [
  {
   "cell_type": "code",
   "execution_count": 1,
   "id": "6b1bda89-6015-40cd-83b1-f443722d8b16",
   "metadata": {},
   "outputs": [],
   "source": [
    "import numpy as np"
   ]
  },
  {
   "cell_type": "code",
   "execution_count": 2,
   "id": "bed2ee89-4a45-4aa2-8967-4afb244c658c",
   "metadata": {},
   "outputs": [
    {
     "data": {
      "text/plain": [
       "array([ 1,  2,  3,  4,  5,  6,  7,  8,  9, 10, 11, 12])"
      ]
     },
     "execution_count": 2,
     "metadata": {},
     "output_type": "execute_result"
    }
   ],
   "source": [
    "list1=[1,2,3,4,5,6,7,8,9,10,11,12]\n",
    "arr=np.array(list1)\n",
    "arr"
   ]
  },
  {
   "cell_type": "code",
   "execution_count": 3,
   "id": "45aade09-dba2-4743-8550-82bdad9078bc",
   "metadata": {},
   "outputs": [
    {
     "name": "stdout",
     "output_type": "stream",
     "text": [
      "(3, 4)\n",
      "[[ 1  2  3  4]\n",
      " [ 5  6  7  8]\n",
      " [ 9 10 11 12]]\n"
     ]
    }
   ],
   "source": [
    "arr=arr.reshape(3,4)\n",
    "print(arr.shape)\n",
    "arr.reshape(2,6)\n",
    "print(arr)"
   ]
  },
  {
   "cell_type": "code",
   "execution_count": 4,
   "id": "0fb57810-88b2-4d1d-aaaf-5dec6d89c03c",
   "metadata": {},
   "outputs": [
    {
     "data": {
      "text/plain": [
       "10"
      ]
     },
     "execution_count": 4,
     "metadata": {},
     "output_type": "execute_result"
    }
   ],
   "source": [
    "arr[2][1]  #1 element"
   ]
  },
  {
   "cell_type": "code",
   "execution_count": 5,
   "id": "207bfe88-45e8-4a97-a5bd-f65f35a8f33b",
   "metadata": {},
   "outputs": [
    {
     "data": {
      "text/plain": [
       "10"
      ]
     },
     "execution_count": 5,
     "metadata": {},
     "output_type": "execute_result"
    }
   ],
   "source": [
    "arr[2,1]  #same as above"
   ]
  },
  {
   "cell_type": "code",
   "execution_count": 6,
   "id": "2c90c353-3cfe-438b-bfef-b7cf231d5a2c",
   "metadata": {},
   "outputs": [
    {
     "data": {
      "text/plain": [
       "array([[2],\n",
       "       [6]])"
      ]
     },
     "execution_count": 6,
     "metadata": {},
     "output_type": "execute_result"
    }
   ],
   "source": [
    "#extract multiple element\n",
    "arr[0:2,1:2]  #0 to 1 row, 1to 1 column"
   ]
  },
  {
   "cell_type": "code",
   "execution_count": 7,
   "id": "a3c9fd21-a425-4f92-9e64-a51929d48eb0",
   "metadata": {},
   "outputs": [
    {
     "name": "stdout",
     "output_type": "stream",
     "text": [
      "[[1 2 3 4]\n",
      " [5 6 7 8]]\n",
      "//////////////\n",
      "[[1 2]\n",
      " [5 6]]\n",
      "//////////////\n",
      "[[ 1  2  3  4]\n",
      " [ 5  6  7  8]\n",
      " [ 9 10 11 12]]\n",
      "//////////////\n",
      "[ 9 10]\n",
      "//////////////\n"
     ]
    }
   ],
   "source": [
    "print(arr[0:2])  ##0 to 1 row, all column\n",
    "print('//////////////')\n",
    "print(arr[:2,:2])  #0 to 1row, 0 to 1 column\n",
    "print('//////////////')\n",
    "print(arr[:,:]) #all row and all column\n",
    "print('//////////////')\n",
    "print(arr[-1,0:2])  #-1 menas last row\n",
    "print('//////////////')"
   ]
  },
  {
   "cell_type": "code",
   "execution_count": 8,
   "id": "1fc20a37-6105-41b2-b335-382fb5dabce8",
   "metadata": {},
   "outputs": [
    {
     "name": "stdout",
     "output_type": "stream",
     "text": [
      "[[ 0  1  2  3  4]\n",
      " [ 5  6  7  8  9]\n",
      " [10 11 12 13 14]]\n"
     ]
    }
   ],
   "source": [
    "arr1=np.arange(0,15,1).reshape(3,5)  #0 to 15, size of 1 increase# default size is 1\n",
    "print(arr1)"
   ]
  },
  {
   "cell_type": "code",
   "execution_count": 9,
   "id": "6a23f292-7368-4d04-b194-924bb9bf7b8d",
   "metadata": {},
   "outputs": [
    {
     "name": "stdout",
     "output_type": "stream",
     "text": [
      "[[False False  True  True  True]\n",
      " [ True  True  True  True  True]\n",
      " [ True  True  True  True  True]]\n",
      "[ 2  3  4  5  6  7  8  9 10 11 12 13 14]\n"
     ]
    }
   ],
   "source": [
    "print(arr1>=2)\n",
    "\n",
    "print(arr1[arr1>=2])   #element >= 2"
   ]
  },
  {
   "cell_type": "code",
   "execution_count": 10,
   "id": "d876f36e-551a-4803-a590-9f9fb1c5513d",
   "metadata": {},
   "outputs": [],
   "source": [
    "arr2=(arr1*2).copy()"
   ]
  },
  {
   "cell_type": "code",
   "execution_count": 11,
   "id": "82f3c334-f1c2-4157-92e0-9ab4918c0a97",
   "metadata": {},
   "outputs": [
    {
     "name": "stdout",
     "output_type": "stream",
     "text": [
      "[[ 0  2  4  6  8]\n",
      " [10 12 14 16 18]\n",
      " [20 22 24 26 28]]\n"
     ]
    }
   ],
   "source": [
    "print(arr2)"
   ]
  },
  {
   "cell_type": "code",
   "execution_count": 12,
   "id": "93458151-3821-4bbe-a25e-aab5d40182c1",
   "metadata": {},
   "outputs": [
    {
     "data": {
      "text/plain": [
       "array([[0.094646  , 0.28296579, 0.82750784, 0.99527308, 0.85271349],\n",
       "       [0.46456626, 0.41098703, 0.32841325, 0.11682045, 0.30053805]])"
      ]
     },
     "execution_count": 12,
     "metadata": {},
     "output_type": "execute_result"
    }
   ],
   "source": [
    "np.random.random(10).reshape(2,5)  #10 random number between 0 to 1"
   ]
  },
  {
   "cell_type": "code",
   "execution_count": 13,
   "id": "956745b5-e5e2-48c8-a4d9-d021f354fbc6",
   "metadata": {},
   "outputs": [
    {
     "data": {
      "text/plain": [
       "array([8, 1, 4, 9, 9])"
      ]
     },
     "execution_count": 13,
     "metadata": {},
     "output_type": "execute_result"
    }
   ],
   "source": [
    "np.random.randint(0,10,5)  #give 5 random number from 0 to 10"
   ]
  },
  {
   "cell_type": "code",
   "execution_count": 14,
   "id": "15679d7a-f3a8-4f83-abb7-d4c3455c3b94",
   "metadata": {},
   "outputs": [
    {
     "data": {
      "text/plain": [
       "array([[0.71289584, 0.66771307, 0.08368039, 0.1041722 , 0.45371016],\n",
       "       [0.82057796, 0.65879606, 0.16787798, 0.94739819, 0.3247959 ],\n",
       "       [0.15395323, 0.49794171, 0.50139792, 0.20683208, 0.85732579],\n",
       "       [0.59500468, 0.29969028, 0.08961186, 0.03454179, 0.87951747],\n",
       "       [0.37276866, 0.51666985, 0.06306379, 0.32849417, 0.95070633]])"
      ]
     },
     "execution_count": 14,
     "metadata": {},
     "output_type": "execute_result"
    }
   ],
   "source": [
    "np.random.rand(5,5)  #Create an array of the given shape and populate it with random samples from a uniform distribution over ``[0, 1)"
   ]
  },
  {
   "cell_type": "code",
   "execution_count": 15,
   "id": "0c3571f2-1256-4835-8aab-e33530007259",
   "metadata": {},
   "outputs": [
    {
     "data": {
      "text/plain": [
       "array([[-1.08228099, -0.99657543, -0.2970138 ,  0.23646372, -1.14227157],\n",
       "       [ 1.10973154, -0.72223722,  1.18058672, -0.47530623, -0.12639345],\n",
       "       [-1.18473022, -1.60735662, -0.7894357 , -0.65422224,  0.27795014],\n",
       "       [-0.13962861,  1.22797219, -0.55230591, -0.36549041,  0.72339533],\n",
       "       [ 1.17368913, -0.97366601,  1.1328765 ,  0.16133298,  0.50466427]])"
      ]
     },
     "execution_count": 15,
     "metadata": {},
     "output_type": "execute_result"
    }
   ],
   "source": [
    "np.random.randn(5,5) #Return a sample (or samples) from the \"standard normal\" distribution"
   ]
  },
  {
   "cell_type": "code",
   "execution_count": 16,
   "id": "191ad1da-e03e-4764-9789-6d8671b054a4",
   "metadata": {},
   "outputs": [
    {
     "name": "stdout",
     "output_type": "stream",
     "text": [
      "7\n"
     ]
    }
   ],
   "source": [
    "l1=range(10)  #create a list in python\n",
    "l2=range(10,20)\n",
    "print(l1[7])"
   ]
  },
  {
   "cell_type": "code",
   "execution_count": 17,
   "id": "f8e14d3b-9eaf-4bc5-9614-cd30d93df076",
   "metadata": {},
   "outputs": [
    {
     "name": "stdout",
     "output_type": "stream",
     "text": [
      "[0 1 2 3 4 5 6 7 8 9]\n",
      "[10 11 12 13 14 15 16 17 18 19]\n"
     ]
    }
   ],
   "source": [
    "ar1=np.array(l1)\n",
    "ar2=np.array(l2)\n",
    "print(ar1)\n",
    "print(ar2)"
   ]
  },
  {
   "cell_type": "code",
   "execution_count": 18,
   "id": "84a76035-5681-4eaf-9029-2d190217d7d8",
   "metadata": {},
   "outputs": [
    {
     "name": "stdout",
     "output_type": "stream",
     "text": [
      "[10 12 14 16 18 20 22 24 26 28]\n",
      "[-10 -10 -10 -10 -10 -10 -10 -10 -10 -10]\n"
     ]
    }
   ],
   "source": [
    "# + and- operation in numpy array, we can do / and * operations\n",
    "print(ar1+ar2)\n",
    "print(ar1-ar2)"
   ]
  },
  {
   "cell_type": "code",
   "execution_count": 19,
   "id": "4e89e4f3-a8b4-424b-a248-990aa67efb00",
   "metadata": {},
   "outputs": [
    {
     "data": {
      "text/plain": [
       "array([[1., 2.],\n",
       "       [3., 4.],\n",
       "       [5., 6.]])"
      ]
     },
     "execution_count": 19,
     "metadata": {},
     "output_type": "execute_result"
    }
   ],
   "source": [
    "a=np.array([[1,2],[3,4],[5,6]],dtype=np.float64)  #or float\n",
    "a"
   ]
  },
  {
   "cell_type": "code",
   "execution_count": 20,
   "id": "3712a9ae-9dec-42c8-9fac-4d3dcf5d18d9",
   "metadata": {},
   "outputs": [
    {
     "data": {
      "text/plain": [
       "8"
      ]
     },
     "execution_count": 20,
     "metadata": {},
     "output_type": "execute_result"
    }
   ],
   "source": [
    "a.itemsize # 8 for float"
   ]
  },
  {
   "cell_type": "code",
   "execution_count": 21,
   "id": "62408a8a-38f5-4792-a7df-cfa47847ef39",
   "metadata": {},
   "outputs": [
    {
     "data": {
      "text/plain": [
       "array([[1., 1., 1., 1.],\n",
       "       [1., 1., 1., 1.]])"
      ]
     },
     "execution_count": 21,
     "metadata": {},
     "output_type": "execute_result"
    }
   ],
   "source": [
    "np.zeros((2,3))\n",
    "np.ones((2,4))"
   ]
  },
  {
   "cell_type": "code",
   "execution_count": 22,
   "id": "e46d74ca-0614-4ae2-8d2e-ff3089ff0384",
   "metadata": {},
   "outputs": [
    {
     "data": {
      "text/plain": [
       "array([[2.        , 2.66666667, 3.33333333, 4.        , 4.66666667],\n",
       "       [5.33333333, 6.        , 6.66666667, 7.33333333, 8.        ]])"
      ]
     },
     "execution_count": 22,
     "metadata": {},
     "output_type": "execute_result"
    }
   ],
   "source": [
    "a=np.linspace(2,8,10).reshape(2,5) #between 2 and 8 with 5 linear space\n",
    "a"
   ]
  },
  {
   "cell_type": "code",
   "execution_count": 23,
   "id": "ed6dd228-6e12-405d-8901-2e28b094e8e3",
   "metadata": {},
   "outputs": [
    {
     "name": "stdout",
     "output_type": "stream",
     "text": [
      "2.0\n",
      "8.0\n",
      "50.0\n"
     ]
    }
   ],
   "source": [
    "print(a.min())   #minimum and maximum\n",
    "print(a.max())\n",
    "print(a.sum())  #sum of all elememt"
   ]
  },
  {
   "cell_type": "code",
   "execution_count": 24,
   "id": "782a874f-7553-4014-ad75-c1855c4b5168",
   "metadata": {},
   "outputs": [
    {
     "data": {
      "text/plain": [
       "array([ 7.33333333,  8.66666667, 10.        , 11.33333333, 12.66666667])"
      ]
     },
     "execution_count": 24,
     "metadata": {},
     "output_type": "execute_result"
    }
   ],
   "source": [
    "a.sum(axis=0)   #axis=0 means column sum"
   ]
  },
  {
   "cell_type": "code",
   "execution_count": 25,
   "id": "af0ec55e-d966-4cb2-9fa3-1f1ac9660af6",
   "metadata": {},
   "outputs": [
    {
     "data": {
      "text/plain": [
       "array([16.66666667, 33.33333333])"
      ]
     },
     "execution_count": 25,
     "metadata": {},
     "output_type": "execute_result"
    }
   ],
   "source": [
    "a.sum(axis=1)  #row sum and give a raary"
   ]
  },
  {
   "cell_type": "code",
   "execution_count": 26,
   "id": "aee02cc7-3d94-43e0-93df-37df0a20b6cc",
   "metadata": {},
   "outputs": [
    {
     "data": {
      "text/plain": [
       "1.9148542155126762"
      ]
     },
     "execution_count": 26,
     "metadata": {},
     "output_type": "execute_result"
    }
   ],
   "source": [
    "np.std(a)  #standard deviation of all number"
   ]
  },
  {
   "cell_type": "code",
   "execution_count": 27,
   "id": "d6d86cda-9c9f-45ae-8ed1-9a9e1c0850c1",
   "metadata": {},
   "outputs": [
    {
     "name": "stdout",
     "output_type": "stream",
     "text": [
      "[2.         2.66666667 3.33333333 4.         4.66666667]\n",
      "2.0\n",
      "2.6666666666666665\n",
      "3.333333333333333\n",
      "4.0\n",
      "4.666666666666666\n",
      "[5.33333333 6.         6.66666667 7.33333333 8.        ]\n",
      "5.333333333333333\n",
      "6.0\n",
      "6.666666666666666\n",
      "7.333333333333333\n",
      "8.0\n"
     ]
    }
   ],
   "source": [
    "# iterate throgh array\n",
    "for i in a:  #it will iterate throgh row\n",
    "    print(i)  #print row\n",
    "    for j in i:  #print individual item in row as row is list it can iterrate again\n",
    "        print(j)"
   ]
  },
  {
   "cell_type": "code",
   "execution_count": 39,
   "id": "111cde7b-474e-4082-931d-4853e904c6fc",
   "metadata": {},
   "outputs": [
    {
     "name": "stdout",
     "output_type": "stream",
     "text": [
      "2.0\n",
      "2.6666666666666665\n",
      "3.333333333333333\n",
      "4.0\n",
      "4.666666666666666\n",
      "5.333333333333333\n",
      "6.0\n",
      "6.666666666666666\n",
      "7.333333333333333\n",
      "8.0\n"
     ]
    }
   ],
   "source": [
    "# to print each element in array\n",
    "\n",
    "for i in a.flat:  #flatten is function\n",
    "    print(i)"
   ]
  },
  {
   "cell_type": "code",
   "execution_count": 29,
   "id": "79835e28-a386-4d38-bd84-779a5e44e4ef",
   "metadata": {},
   "outputs": [
    {
     "name": "stdout",
     "output_type": "stream",
     "text": [
      "[[0 1]\n",
      " [2 3]\n",
      " [4 5]\n",
      " [6 7]\n",
      " [8 9]]\n",
      "[[10 11]\n",
      " [12 13]\n",
      " [14 15]\n",
      " [16 17]\n",
      " [18 19]]\n"
     ]
    }
   ],
   "source": [
    "# ~Stacking 2 array together\n",
    "\n",
    "a1=np.arange(0,10).reshape(5,2)\n",
    "print(a1)\n",
    "a2=np.arange(10,20).reshape(5,2)\n",
    "print(a2)"
   ]
  },
  {
   "cell_type": "code",
   "execution_count": 30,
   "id": "73924b2a-a66d-4e09-8032-9db88e28be4d",
   "metadata": {},
   "outputs": [
    {
     "data": {
      "text/plain": [
       "array([[ 0,  1, 10, 11],\n",
       "       [ 2,  3, 12, 13],\n",
       "       [ 4,  5, 14, 15],\n",
       "       [ 6,  7, 16, 17],\n",
       "       [ 8,  9, 18, 19]])"
      ]
     },
     "execution_count": 30,
     "metadata": {},
     "output_type": "execute_result"
    }
   ],
   "source": [
    "#Horizontal Stacking\n",
    "np.hstack((a1,a2))"
   ]
  },
  {
   "cell_type": "code",
   "execution_count": 31,
   "id": "da2cb760-bf87-4b99-aafb-b280ec194f49",
   "metadata": {},
   "outputs": [
    {
     "data": {
      "text/plain": [
       "array([[ 0,  1],\n",
       "       [ 2,  3],\n",
       "       [ 4,  5],\n",
       "       [ 6,  7],\n",
       "       [ 8,  9],\n",
       "       [10, 11],\n",
       "       [12, 13],\n",
       "       [14, 15],\n",
       "       [16, 17],\n",
       "       [18, 19]])"
      ]
     },
     "execution_count": 31,
     "metadata": {},
     "output_type": "execute_result"
    }
   ],
   "source": [
    "#Vertical Stacking\n",
    "np.vstack((a1,a2))"
   ]
  },
  {
   "cell_type": "code",
   "execution_count": 32,
   "id": "8d5fccf1-fe6a-4d26-90c5-a93761ec551d",
   "metadata": {},
   "outputs": [
    {
     "name": "stdout",
     "output_type": "stream",
     "text": [
      "[[ 0  1  2  3  4  5  6  7  8  9 10 11 12 13 14]\n",
      " [15 16 17 18 19 20 21 22 23 24 25 26 27 28 29]]\n",
      "[[ 0  1  2  3  4]\n",
      " [15 16 17 18 19]]\n",
      "[[ 5  6  7  8  9]\n",
      " [20 21 22 23 24]]\n",
      "[[10 11 12 13 14]\n",
      " [25 26 27 28 29]]\n"
     ]
    }
   ],
   "source": [
    "#Split the array\n",
    "\n",
    "a3= np.arange(0,30).reshape(2,15)\n",
    "print(a3)\n",
    "result=np.hsplit(a3,3)  #split a3 into 3 slice and store the result into variable #bSplit an array into multiple sub-arrays horizontally (column-wise).\n",
    "\n",
    "for i in result:\n",
    "    print(i)  #print the 3 resulant array\n",
    "#sameway array can split in vertically by hsplit"
   ]
  },
  {
   "cell_type": "code",
   "execution_count": 33,
   "id": "81e5297a-5e12-4e83-a457-e591e6da4e8b",
   "metadata": {},
   "outputs": [
    {
     "name": "stdout",
     "output_type": "stream",
     "text": [
      "[[ 0  1  2  3  4  5  6  7  8  9 10 11 12 13 14]]\n",
      "[[15 16 17 18 19 20 21 22 23 24 25 26 27 28 29]]\n"
     ]
    }
   ],
   "source": [
    "#sameway array can split in vertically by hsplit\n",
    "result1=np.vsplit(a3,2)  #Split an array into multiple sub-arrays vertically (row-wise).\n",
    "\n",
    "for i in result1:\n",
    "    print(i)  #print the 3 resulant array"
   ]
  },
  {
   "cell_type": "code",
   "execution_count": 34,
   "id": "84e110b0-4aef-49ca-9776-2df6f374033a",
   "metadata": {},
   "outputs": [
    {
     "name": "stdout",
     "output_type": "stream",
     "text": [
      "[[False False False False False False False False  True  True  True  True\n",
      "   True  True  True]\n",
      " [ True  True  True  True  True  True  True  True  True  True  True  True\n",
      "   True  True  True]]\n",
      "[ 8  9 10 11 12 13 14 15 16 17 18 19 20 21 22 23 24 25 26 27 28 29]\n",
      "[[ 0  1  2  3  4  5  6  7 -1 -1 -1 -1 -1 -1 -1]\n",
      " [-1 -1 -1 -1 -1 -1 -1 -1 -1 -1 -1 -1 -1 -1 -1]]\n"
     ]
    }
   ],
   "source": [
    "print(a3>7)  #a3 elements greter than 7 boolean\n",
    "b=a3>7\n",
    "print(a3[b]) #print the elements in array >7\n",
    "# want to replace the elements >7 by -1\n",
    "\n",
    "a3[b]=-1\n",
    "print(a3)"
   ]
  },
  {
   "cell_type": "markdown",
   "id": "3d03ddaa-190e-464a-9dda-7878999090f9",
   "metadata": {},
   "source": [
    "# Iterate array via nditer"
   ]
  },
  {
   "cell_type": "code",
   "execution_count": 36,
   "id": "388387c6-fa5b-4ab5-a492-483a563b069f",
   "metadata": {},
   "outputs": [
    {
     "data": {
      "text/plain": [
       "array([[0, 1],\n",
       "       [2, 3],\n",
       "       [4, 5],\n",
       "       [6, 7],\n",
       "       [8, 9]])"
      ]
     },
     "execution_count": 36,
     "metadata": {},
     "output_type": "execute_result"
    }
   ],
   "source": [
    "a1"
   ]
  },
  {
   "cell_type": "code",
   "execution_count": 43,
   "id": "c63c9d3a-870b-4ee6-8f6f-d7b28a7f7330",
   "metadata": {},
   "outputs": [
    {
     "name": "stdout",
     "output_type": "stream",
     "text": [
      "0\n",
      "1\n",
      "2\n",
      "3\n",
      "4\n",
      "5\n",
      "6\n",
      "7\n",
      "8\n",
      "9\n"
     ]
    }
   ],
   "source": [
    "for i in np.nditer(a1,order='F'):  #order C go row by row same effect as flatten, ordef F will go column wise\n",
    "    print(i)"
   ]
  },
  {
   "cell_type": "code",
   "execution_count": 56,
   "id": "440d2caa-3b6e-4f89-a44b-0222cf08ddde",
   "metadata": {},
   "outputs": [
    {
     "name": "stdout",
     "output_type": "stream",
     "text": [
      "[0 2 4 6 8]\n",
      "[1 3 5 7 9]\n"
     ]
    }
   ],
   "source": [
    "for i in np.nditer(a1,order='F',flags=['external_loop']):  #external_loop, each iteration will  print entire column \n",
    "    print(i)"
   ]
  },
  {
   "cell_type": "code",
   "execution_count": 57,
   "id": "d3e582b4-d3e5-4b96-a9ac-c37d01820f43",
   "metadata": {},
   "outputs": [
    {
     "name": "stdout",
     "output_type": "stream",
     "text": [
      "[0 1 2 3 4 5 6 7 8 9]\n"
     ]
    }
   ],
   "source": [
    "for i in np.nditer(a1,order='C',flags=['external_loop']):  #external_loop, all data will print in one column\n",
    "    print(i)"
   ]
  },
  {
   "cell_type": "code",
   "execution_count": 61,
   "id": "b26d67b5-44c8-4997-a114-0a04eefa64f3",
   "metadata": {},
   "outputs": [
    {
     "name": "stdout",
     "output_type": "stream",
     "text": [
      "[ 3  5  7  9 11]\n",
      "[ 4  6  8 10 12]\n"
     ]
    },
    {
     "data": {
      "text/plain": [
       "array([[ 3,  4],\n",
       "       [ 5,  6],\n",
       "       [ 7,  8],\n",
       "       [ 9, 10],\n",
       "       [11, 12]])"
      ]
     },
     "execution_count": 61,
     "metadata": {},
     "output_type": "execute_result"
    }
   ],
   "source": [
    "#iterate through array and want to modify the elements, can be done via op_flags\n",
    "for i in np.nditer(a1,op_flags=['readwrite']):\n",
    "    i[...]=i+1\n",
    "    print(i)\n",
    "a1"
   ]
  },
  {
   "cell_type": "code",
   "execution_count": 62,
   "id": "7f916374-759d-4ea5-99d4-ac96f9d2cbe6",
   "metadata": {},
   "outputs": [
    {
     "data": {
      "text/plain": [
       "array([ 5,  7,  9, 11, 13])"
      ]
     },
     "execution_count": 62,
     "metadata": {},
     "output_type": "execute_result"
    }
   ],
   "source": [
    "for i in np.nditer(a1,order='F',flags=['external_loop'],op_flags=['readwrite']):\n",
    "    i[...]=i+1\n",
    "    a4=i\n",
    "a4"
   ]
  },
  {
   "cell_type": "markdown",
   "id": "0f502466-c340-4dae-af9f-95a8f21f84f0",
   "metadata": {},
   "source": [
    "# iterate throgh numpy array in Fortran order and store in another array"
   ]
  },
  {
   "cell_type": "code",
   "execution_count": 92,
   "id": "25bda36c-d943-46e3-8dd8-4e13b0e7ecbd",
   "metadata": {},
   "outputs": [
    {
     "name": "stdout",
     "output_type": "stream",
     "text": [
      "<class 'numpy.ndarray'>\n",
      "[         0 1075052544          0 1075576832          0]\n",
      "[ 4  6  8 10 12]\n",
      "0\n",
      "[[         4          6          8         10         12]\n",
      " [1075970048          0 1076232192          0 1076494336]]\n",
      "<class 'numpy.ndarray'>\n",
      "[1075970048          0 1076232192          0 1076494336]\n",
      "[ 5  7  9 11 13]\n",
      "1\n",
      "[[ 4  6  8 10 12]\n",
      " [ 5  7  9 11 13]]\n"
     ]
    },
    {
     "data": {
      "text/plain": [
       "array([[ 4,  5],\n",
       "       [ 6,  7],\n",
       "       [ 8,  9],\n",
       "       [10, 11],\n",
       "       [12, 13]])"
      ]
     },
     "execution_count": 92,
     "metadata": {},
     "output_type": "execute_result"
    }
   ],
   "source": [
    " j=0\n",
    " k=np.zeros((2,5),dtype=int)\n",
    "k=np.empty((2,5),dtype=int)\n",
    "#iterate throgh numpy array in Fortran order and store in another array\n",
    "#external_loop`` causes the ``values`` given to be one-dimensional arrays with multiple values instead of zero-dimensional arrays\n",
    "for i in np.nditer(a1,order='F',flags=['external_loop']): \n",
    "    print(type(i))\n",
    "    print(k[j])\n",
    "    print(i)\n",
    "    k[j]=i\n",
    "    print(j)\n",
    "    print(k)\n",
    "    j=j+1\n",
    "k\n",
    "a1"
   ]
  },
  {
   "cell_type": "markdown",
   "id": "04a8293e-fb08-4ecf-9641-bb20dfabd6e8",
   "metadata": {},
   "source": [
    "# Iterate through 2 different Arrays"
   ]
  },
  {
   "cell_type": "code",
   "execution_count": 103,
   "id": "64cfabb2-af20-4681-8e04-41bf13fc707c",
   "metadata": {},
   "outputs": [
    {
     "name": "stdout",
     "output_type": "stream",
     "text": [
      "[[0 1 2]\n",
      " [3 4 5]\n",
      " [6 7 8]]\n",
      "[[10]\n",
      " [11]\n",
      " [12]]\n"
     ]
    }
   ],
   "source": [
    "ars=np.arange(0,9).reshape(3,3)\n",
    "ars1=np.arange(10,13).reshape(3,1)\n",
    "print(ars)\n",
    "print(ars1)"
   ]
  },
  {
   "cell_type": "code",
   "execution_count": 105,
   "id": "684c42dd-7200-4815-8151-0458354e6a91",
   "metadata": {},
   "outputs": [
    {
     "name": "stdout",
     "output_type": "stream",
     "text": [
      "0 10\n",
      "1 10\n",
      "2 10\n",
      "3 11\n",
      "4 11\n",
      "5 11\n",
      "6 12\n",
      "7 12\n",
      "8 12\n"
     ]
    }
   ],
   "source": [
    "for x,y in np.nditer([ars,ars1]):  #array shape should be compatible\n",
    "    print(x,y)"
   ]
  }
 ],
 "metadata": {
  "kernelspec": {
   "display_name": "Python 3 (ipykernel)",
   "language": "python",
   "name": "python3"
  },
  "language_info": {
   "codemirror_mode": {
    "name": "ipython",
    "version": 3
   },
   "file_extension": ".py",
   "mimetype": "text/x-python",
   "name": "python",
   "nbconvert_exporter": "python",
   "pygments_lexer": "ipython3",
   "version": "3.11.7"
  }
 },
 "nbformat": 4,
 "nbformat_minor": 5
}
