{
 "cells": [
  {
   "cell_type": "code",
   "execution_count": 4,
   "id": "a5cdfeb1-ea18-4dd4-9318-0ecca30e4cdc",
   "metadata": {
    "tags": []
   },
   "outputs": [
    {
     "name": "stdout",
     "output_type": "stream",
     "text": [
      "('Sayantan', 'nath')\n",
      "{'age': 35, 'empid': 1231253}\n"
     ]
    }
   ],
   "source": [
    "def Hello(*args,**kwargs):\n",
    "    print(args)\n",
    "    print(kwargs)\n",
    "    \n",
    "Hello('Sayantan','nath',age=35,empid=1231253)"
   ]
  },
  {
   "cell_type": "code",
   "execution_count": 18,
   "id": "b2f05abb-c6de-4b80-903d-168bac75e943",
   "metadata": {
    "tags": []
   },
   "outputs": [
    {
     "name": "stdout",
     "output_type": "stream",
     "text": [
      "(['sayantan', 'nath'], {'age': 35, 'height': 167})\n",
      "{}\n",
      "('sayantan', 'nath')\n",
      "{'age': 35, 'height': 167}\n"
     ]
    }
   ],
   "source": [
    "name=['sayantan','nath']\n",
    "age={'age':35,'height':167}\n",
    "Hello(name,age)  #consider name and age both as positional arguments\n",
    "Hello(*name,**age)"
   ]
  },
  {
   "cell_type": "code",
   "execution_count": 33,
   "id": "a6018f6c-113b-4389-acd8-e834113c74fd",
   "metadata": {
    "tags": []
   },
   "outputs": [
    {
     "data": {
      "text/plain": [
       "[49, 56]"
      ]
     },
     "execution_count": 33,
     "metadata": {},
     "output_type": "execute_result"
    }
   ],
   "source": [
    "list1=[1,2,3,4,5,6,7,8,9,10,11,12,13,14]\n",
    "\n",
    "def calculate(list1):\n",
    "    odd_sum=0\n",
    "    even_sum=0\n",
    "    for i in list1:\n",
    "        if i%2==0:\n",
    "            even_sum=even_sum+i\n",
    "        else:\n",
    "            odd_sum=odd_sum+i\n",
    "    # return odd_sum,even_sum  #default returm is tuple\n",
    "    return[odd_sum,even_sum]\n",
    "\n",
    "calculate(list1)"
   ]
  },
  {
   "cell_type": "code",
   "execution_count": 68,
   "id": "82c38b19-3436-4777-9aae-50feece454c1",
   "metadata": {
    "tags": []
   },
   "outputs": [],
   "source": [
    "var= lambda x:x%2==0"
   ]
  },
  {
   "cell_type": "code",
   "execution_count": 70,
   "id": "b6674f95-bb29-4fab-b38b-207287ab189a",
   "metadata": {
    "tags": []
   },
   "outputs": [
    {
     "data": {
      "text/plain": [
       "6"
      ]
     },
     "execution_count": 70,
     "metadata": {},
     "output_type": "execute_result"
    }
   ],
   "source": [
    "lst1=[1,2,3,4]\n",
    "# var(lst1)\n",
    "# filter\n",
    "sum(filter(var,lst1))"
   ]
  },
  {
   "cell_type": "code",
   "execution_count": 19,
   "id": "5ef16544-ad66-4059-9ba9-2899eb87ef78",
   "metadata": {
    "tags": []
   },
   "outputs": [],
   "source": [
    "lst1=[1,2,3,4,5,6,7,8,9,10]\n",
    "\n",
    "var1=filter(lambda x: x%2==0,lst1)"
   ]
  },
  {
   "cell_type": "code",
   "execution_count": 41,
   "id": "93b6b7bd-a658-45c3-a390-0afdc6d7578b",
   "metadata": {
    "tags": []
   },
   "outputs": [
    {
     "ename": "StopIteration",
     "evalue": "",
     "output_type": "error",
     "traceback": [
      "\u001b[1;31m---------------------------------------------------------------------------\u001b[0m",
      "\u001b[1;31mStopIteration\u001b[0m                             Traceback (most recent call last)",
      "Cell \u001b[1;32mIn[41], line 1\u001b[0m\n\u001b[1;32m----> 1\u001b[0m \u001b[38;5;28mnext\u001b[39m(var1)\n",
      "\u001b[1;31mStopIteration\u001b[0m: "
     ]
    }
   ],
   "source": [
    "next(var1)"
   ]
  },
  {
   "cell_type": "code",
   "execution_count": 72,
   "id": "05cd73aa-4c99-4250-bd61-4ce2db11ab86",
   "metadata": {
    "tags": []
   },
   "outputs": [
    {
     "data": {
      "text/plain": [
       "9"
      ]
     },
     "execution_count": 72,
     "metadata": {},
     "output_type": "execute_result"
    }
   ],
   "source": [
    "var= lambda a,b: a+b\n",
    "\n",
    "var(4,5)"
   ]
  },
  {
   "cell_type": "code",
   "execution_count": 7,
   "id": "480bf4bf-af3e-4021-bcc2-f2b933330443",
   "metadata": {
    "tags": []
   },
   "outputs": [],
   "source": [
    "lst2=[1,2,3,4,5,6,7,8,9,10]"
   ]
  },
  {
   "cell_type": "code",
   "execution_count": 9,
   "id": "b6c72e9f-9c71-408e-9614-f7717bf2691a",
   "metadata": {
    "tags": []
   },
   "outputs": [],
   "source": [
    "lst3=[i*i for i in lst2 if i%2==0]"
   ]
  },
  {
   "cell_type": "code",
   "execution_count": 11,
   "id": "f10cd87f-0538-4aae-90dc-5ce229773df6",
   "metadata": {
    "tags": []
   },
   "outputs": [
    {
     "data": {
      "text/plain": [
       "[4, 16, 36, 64, 100]"
      ]
     },
     "execution_count": 11,
     "metadata": {},
     "output_type": "execute_result"
    }
   ],
   "source": [
    "lst3"
   ]
  },
  {
   "cell_type": "code",
   "execution_count": 3,
   "id": "cc3552f6-7e88-4273-8734-1e691a32000e",
   "metadata": {
    "tags": []
   },
   "outputs": [],
   "source": [
    "class emp():\n",
    "    def __init__(self,name,salary,age):\n",
    "        self.name=name\n",
    "        self.salary=salary\n",
    "        self.age=age\n",
    "    def display(self):\n",
    "        print('name={name},salary={sal},age={ag}'.format(name=self.name,sal=self.salary,ag=self.age))"
   ]
  },
  {
   "cell_type": "code",
   "execution_count": 5,
   "id": "055a2068-67f7-4048-a275-f5af8d4a14a4",
   "metadata": {
    "tags": []
   },
   "outputs": [
    {
     "name": "stdout",
     "output_type": "stream",
     "text": [
      "name=nath,salary=2000,age=35\n"
     ]
    }
   ],
   "source": [
    "emp1=emp('nath',2000,35)\n",
    "emp1.display()"
   ]
  },
  {
   "cell_type": "code",
   "execution_count": 26,
   "id": "adb7806d-bb2f-4865-a963-95cafe6472d5",
   "metadata": {
    "tags": []
   },
   "outputs": [],
   "source": [
    "class Manager(emp):\n",
    "    def __init__(self,name,salary,age,designation):\n",
    "        super().__init__(name,salary,age)\n",
    "        self.designation=designation\n",
    "    def mdisplay(self):\n",
    "        print('name={name},salary={sal},age={ag},desig={desig}'.format(name=self.name,sal=self.salary,ag=self.age,desig=self.designation))"
   ]
  },
  {
   "cell_type": "code",
   "execution_count": 28,
   "id": "e814fb97-e589-4016-bf30-48a33a77e6df",
   "metadata": {
    "tags": []
   },
   "outputs": [],
   "source": [
    "man1=Manager('nath',2000,35,'mananger')"
   ]
  },
  {
   "cell_type": "code",
   "execution_count": 33,
   "id": "72f7242b-b99f-44e7-8b1f-7138aa7f6544",
   "metadata": {
    "tags": []
   },
   "outputs": [
    {
     "name": "stdout",
     "output_type": "stream",
     "text": [
      "name=nath,salary=2000,age=35,desig=mananger\n",
      "name=nath,salary=2000,age=35\n"
     ]
    },
    {
     "data": {
      "text/plain": [
       "(None, None)"
      ]
     },
     "execution_count": 33,
     "metadata": {},
     "output_type": "execute_result"
    }
   ],
   "source": [
    "man1.mdisplay(), man1.display()"
   ]
  }
 ],
 "metadata": {
  "kernelspec": {
   "display_name": "Python 3 (ipykernel)",
   "language": "python",
   "name": "python3"
  },
  "language_info": {
   "codemirror_mode": {
    "name": "ipython",
    "version": 3
   },
   "file_extension": ".py",
   "mimetype": "text/x-python",
   "name": "python",
   "nbconvert_exporter": "python",
   "pygments_lexer": "ipython3",
   "version": "3.11.7"
  }
 },
 "nbformat": 4,
 "nbformat_minor": 5
}
